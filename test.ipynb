{
 "cells": [
  {
   "cell_type": "code",
   "execution_count": 6,
   "id": "6daa3189",
   "metadata": {},
   "outputs": [
    {
     "name": "stdout",
     "output_type": "stream",
     "text": [
      "Current working directory: c:\\Users\\vijay\\OneDrive\\Documents\\VKV\n",
      "Absolute path to config.json: c:\\Users\\vijay\\OneDrive\\Documents\\VKV\\config.json\n"
     ]
    }
   ],
   "source": [
    "import os\n",
    "print(\"Current working directory:\", os.getcwd())\n",
    "print(\"Absolute path to config.json:\", os.path.abspath(\"config.json\"))\n"
   ]
  },
  {
   "cell_type": "code",
   "execution_count": 9,
   "id": "dbb3622a",
   "metadata": {},
   "outputs": [],
   "source": [
    "import pyvisa\n",
    "\n",
    "rm = pyvisa.ResourceManager()\n",
    "\n",
    "instr = rm.open_resource(\"TCPIP0::WINDOWS-EJL97HL::inst0::INSTR\")\n"
   ]
  },
  {
   "cell_type": "code",
   "execution_count": null,
   "id": "8abfc39b",
   "metadata": {},
   "outputs": [],
   "source": [
    "import json"
   ]
  }
 ],
 "metadata": {
  "kernelspec": {
   "display_name": "Python 3",
   "language": "python",
   "name": "python3"
  },
  "language_info": {
   "codemirror_mode": {
    "name": "ipython",
    "version": 3
   },
   "file_extension": ".py",
   "mimetype": "text/x-python",
   "name": "python",
   "nbconvert_exporter": "python",
   "pygments_lexer": "ipython3",
   "version": "3.13.5"
  }
 },
 "nbformat": 4,
 "nbformat_minor": 5
}
