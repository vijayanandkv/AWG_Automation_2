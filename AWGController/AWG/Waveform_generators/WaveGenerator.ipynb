{
 "cells": [
  {
   "cell_type": "code",
   "execution_count": 1,
   "id": "ac940143",
   "metadata": {},
   "outputs": [],
   "source": [
    "import numpy as np\n",
    "from scipy import signal\n",
    "import matplotlib.pyplot as plt\n",
    "import seaborn as sns\n",
    "from pyfinite import ffield\n",
    "import csv\n",
    "\n",
    "# Create a class to generate waveforms\n",
    "\n",
    "class WaveformGenerator:\n",
    "    def __init__(self):\n",
    "        self.pulse_width = None\n",
    "        self.bandwidth = None\n",
    "        self.chirp = None\n",
    "        \n",
    "\n",
    "    # Sinusoidal wave\n",
    "    def sinusoidal(self, frequency, amplitude = 1, sampling_frequency=7.2):\n",
    "        amplitude = float(amplitude)\n",
    "        frequency = float(frequency) * 1e9  # user gives frequency in GHz\n",
    "        sampling_frequency = float(sampling_frequency) * 1e9  # user gives sampling frequency in GHz\n",
    "        period = 1 / frequency\n",
    "        oversample = int(period * sampling_frequency)\n",
    "        time = np.arange(0, period, 1 / sampling_frequency)\n",
    "        wave = (amplitude / 2) * np.sin(2 * np.pi * frequency * time)\n",
    "\n",
    "        print(f\"num samples: {len(wave)}, over sample {oversample}\")\n",
    "\n",
    "        return  time, wave\n",
    "\n",
    "    def get_taps(self, order):\n",
    "        F = ffield.FField(order)\n",
    "        taps = [i for i, bit in enumerate(reversed(F.ShowCoefficients(F.generator))) if bit == 1]\n",
    "        print(\"taps: \", taps)\n",
    "        return taps[:-1]  # remove x^0 term which is always 1 in primitive polynomials\n",
    "\n",
    "    def PRBS(self, amplitude, order, repetition_rate, sampling_frequency=7.2, max_bits=None):\n",
    "        amplitude = float(amplitude)\n",
    "        order = int(order)\n",
    "        taps = self.get_taps(order)\n",
    "        sampling_frequency = float(sampling_frequency) * 7.2e9\n",
    "        repetition_rate = float(repetition_rate) * 1e6\n",
    "\n",
    "        oversample = round(sampling_frequency / repetition_rate)\n",
    "        max_length = (2 ** order) - 1\n",
    "\n",
    "        if max_bits is not None:\n",
    "            length = min(max_length, int(max_bits))\n",
    "        else:\n",
    "            length = max_length\n",
    "\n",
    "        while True:\n",
    "            seed = np.random.randint(0, 2, size=order).tolist()\n",
    "            if any(seed):\n",
    "                break\n",
    "\n",
    "        state = seed.copy()\n",
    "        bits = []\n",
    "        for _ in range(length):\n",
    "            feedback = 0\n",
    "            for t in taps:\n",
    "                feedback ^= state[t]\n",
    "            bits.append(state[-1])\n",
    "            state = [feedback] + state[:-1]\n",
    "\n",
    "        bits = np.array(bits)\n",
    "        print(f\"[DEBUG] order={order}, length={length}, oversample={oversample}, total_samples={length * oversample}\")\n",
    "        print(\"Bits:\", bits[:50])\n",
    "        print(\"Unique bit values:\", np.unique(bits))\n",
    "\n",
    "        waveform = np.repeat(bits * amplitude, oversample)\n",
    "        time = np.arange(len(waveform)) / sampling_frequency\n",
    "\n",
    "        return time, bits, waveform\n",
    "    \n",
    "    def chirp_calculator(self, pulse_width, bandwidth):\n",
    "        chirp = bandwidth / pulse_width\n",
    "        return chirp \n",
    "    def pulse_width_calculator(self, chirp, bandwidth):\n",
    "        pulse_width = bandwidth / chirp\n",
    "        return pulse_width\n",
    "    def bandwidth_calculator(self, chirp, pulse_width):\n",
    "        bandwidth = chirp * pulse_width\n",
    "        return bandwidth\n",
    "\n",
    "    def generate_lfm(self, amplitude, center_freq, sampling_freq = 7.2,\n",
    "                     bandwidth=None, pulse_width=None, chirp=None):\n",
    "        \n",
    "        self.sampling_freq = float(sampling_freq) * 1e9  # GHz to Hz\n",
    "        self.center_freq = float(center_freq) * 1e9  # GHz to Hz       \n",
    "\n",
    "\n",
    "        # Validate input\n",
    "        if chirp is not None and (bandwidth is not None and pulse_width is not None):\n",
    "            raise ValueError(\"Provide either (chirp) or (bandwidth or pulse_width), not all.\")\n",
    "        elif chirp is not None and (bandwidth is None and pulse_width is None):\n",
    "            raise ValueError(\"provide either bandwidth or pulse width along with chirp\")\n",
    "        else:\n",
    "            pass\n",
    "        if chirp is not None and bandwidth is not None:\n",
    "            self.chirp = chirp\n",
    "            self.bandwidth = bandwidth * 1e9\n",
    "            self.pulse_width = self.pulse_width_calculator(chirp = self.chirp, bandwidth = self.bandwidth) \n",
    "\n",
    "        elif chirp is not None and pulse_width is not None:\n",
    "            self.chirp = chirp\n",
    "            self.pulse_width = pulse_width * 1e-9\n",
    "            self.bandwidth = self.bandwidth_calculator(chirp = self.chirp, pulse_width = self.pulse_width)    \n",
    "        else:\n",
    "            self.bandwidth = bandwidth * 1e9\n",
    "            self.pulse_width = pulse_width * 1e-9\n",
    "            self.chirp = self.chirp_calculator(pulse_width= self.pulse_width, bandwidth= self.bandwidth)\n",
    "\n",
    "        self.f0 = self.center_freq - self.bandwidth / 2\n",
    "        self.f1 = self.center_freq + self.bandwidth / 2\n",
    "\n",
    "        t = np.arange(0, self.pulse_width, 1 / self.sampling_freq)\n",
    "        phase = -2 * np.pi * ((self.f0 * t) + (0.5 * self.chirp * (t ** 2)))\n",
    "        I = np.cos(phase)\n",
    "        Q = np.sin(phase)\n",
    "        waveform = amplitude  * (I * (np.cos( 2 * np.pi * 1e9 * t)) - Q * (np.sin(2 * np.pi * 1e9 * t))) #signal.chirp(t, f0=self.f0, f1=self.f1, t1=self.pulse_width, method='linear') * amplitude\n",
    "        return t, waveform\n",
    "\n",
    "    def plot(self, time, waveform, amplitude, title=\"Waveform\", bits=None, num_bits=50):\n",
    "        plt.figure(figsize=(10, 4))\n",
    "        if bits is not None:\n",
    "            oversample = len(waveform) // len(bits)\n",
    "            num_bits = min(num_bits, len(bits))\n",
    "            num_samples = oversample * num_bits\n",
    "        else:\n",
    "            num_samples = len(waveform)\n",
    "\n",
    "        plt.plot(time[:num_samples], waveform[:num_samples], label='Waveform', linewidth=1.5)\n",
    "\n",
    "        if bits is not None:\n",
    "            oversample = len(waveform) // len(bits)\n",
    "            bit_times = time[:len(bits) * oversample:oversample]\n",
    "            plt.step(bit_times[:num_bits], bits[:num_bits] * amplitude,\n",
    "                     where='post', linestyle='--', label='Bits', alpha=0.5)\n",
    "\n",
    "        plt.title(title + f' sample rate 7.2GHz')\n",
    "        plt.xlabel(\"Time (ns)\")\n",
    "        plt.ylabel(\"Amplitude (V)\")\n",
    "        plt.grid(True)\n",
    "        plt.legend()\n",
    "        plt.tight_layout()\n",
    "        plt.show()\n",
    "\n",
    "    \n"
   ]
  },
  {
   "cell_type": "code",
   "execution_count": 42,
   "id": "2bde2f46",
   "metadata": {},
   "outputs": [],
   "source": [
    "import numpy as np\n",
    "from scipy import signal\n",
    "import matplotlib.pyplot as plt\n",
    "import seaborn as sns\n",
    "from pyfinite import ffield\n",
    "import csv\n",
    "import plotly.graph_objects as go\n",
    "\n",
    "# Create a class to generate waveforms\n",
    "\n",
    "class WaveformGenerator:\n",
    "    def __init__(self):\n",
    "        self.pulse_width = None\n",
    "        self.bandwidth = None\n",
    "        self.chirp = None\n",
    "\n",
    "    # Sinusoidal wave\n",
    "    def sinusoidal(self, amplitude, frequency, sampling_frequency=7.2):\n",
    "        amplitude = float(amplitude)\n",
    "        frequency = float(frequency) * 1e9  # user gives frequency in GHz\n",
    "        sampling_frequency = float(sampling_frequency) * 1e9  # user gives sampling frequency in GHz\n",
    "        period = 1 / frequency\n",
    "        oversample = int(period * sampling_frequency)\n",
    "        time = np.arange(0, period, 1 / sampling_frequency)\n",
    "        wave = (amplitude / 2) * np.sin(2 * np.pi * frequency * time)\n",
    "        print(f\"num samples: {len(wave)}, over sample {oversample}\")\n",
    "\n",
    "        return oversample, time, wave\n",
    "\n",
    "    def get_taps(self, order):\n",
    "        F = ffield.FField(order)\n",
    "        taps = [i for i, bit in enumerate(reversed(F.ShowCoefficients(F.generator))) if bit == 1]\n",
    "        print(\"taps: \", taps)\n",
    "        return taps[:-1]  # remove x^0 term which is always 1 in primitive polynomials\n",
    "\n",
    "    def PRBS(self, amplitude, order, repetition_rate, sampling_frequency=7.2, max_bits=None):\n",
    "        amplitude = float(amplitude)\n",
    "        order = int(order)\n",
    "        taps = self.get_taps(order)\n",
    "        sampling_frequency = float(sampling_frequency) * 7.2e9\n",
    "        repetition_rate = float(repetition_rate) * 1e6\n",
    "\n",
    "        oversample = round(sampling_frequency / repetition_rate)\n",
    "        max_length = (2 ** order) - 1\n",
    "\n",
    "        if max_bits is not None:\n",
    "            length = min(max_length, int(max_bits))\n",
    "        else:\n",
    "            length = max_length\n",
    "\n",
    "        while True:\n",
    "            seed = np.random.randint(0, 2, size=order).tolist()\n",
    "            if any(seed):\n",
    "                break\n",
    "\n",
    "        state = seed.copy()\n",
    "        bits = []\n",
    "        for _ in range(length):\n",
    "            feedback = 0\n",
    "            for t in taps:\n",
    "                feedback ^= state[t]\n",
    "            bits.append(state[-1])\n",
    "            state = [feedback] + state[:-1]\n",
    "\n",
    "        bits = np.array(bits)\n",
    "        print(f\"[DEBUG] order={order}, length={length}, oversample={oversample}, total_samples={length * oversample}\")\n",
    "        print(\"Bits:\", bits[:50])\n",
    "        print(\"Unique bit values:\", np.unique(bits))\n",
    "\n",
    "        waveform = np.repeat(bits * amplitude, oversample)\n",
    "        time = np.arange(len(waveform)) / sampling_frequency\n",
    "\n",
    "        return oversample, time, bits, waveform\n",
    "    \n",
    "    def generate_lfm(self, center_freq, bandwidth, pulse_width, sampling_freq = 7.2):\n",
    "        \n",
    "        self.sampling_freq = float(sampling_freq) * 1e9  # GHz to Hz\n",
    "        self.center_freq = float(center_freq) * 1e9  # GHz to Hz\n",
    "        self.pulse_width = pulse_width * 1e-9\n",
    "        self.bandwidth = float(bandwidth * 1e9)\n",
    "        self.k = self.bandwidth/self.pulse_width\n",
    "        \n",
    "\n",
    "        self.f0 = float(self.center_freq - self.bandwidth / 2)\n",
    "        self.f1 = float(self.center_freq + self.bandwidth / 2)\n",
    "\n",
    "        t = np.arange(0, self.pulse_width, 1 / self.sampling_freq)\n",
    "        waveform = np.cos(2*np.pi * ((self.f0 * t) + (self.k/2) * (t ** 2)))   #signal.chirp(t, f0=self.f0, f1=self.f1, t1=self.pulse_width, method='linear') \n",
    "\n",
    "        return t, waveform\n",
    "\n",
    "    def plot(self, time, waveform, amplitude, title=\"Waveform\", bits=None, num_bits=50):\n",
    "        fig = go.Figure()\n",
    "\n",
    "        if bits is not None:\n",
    "            oversample = len(waveform) // len(bits)\n",
    "            num_bits = min(num_bits, len(bits))\n",
    "            num_samples = oversample * num_bits\n",
    "        else:\n",
    "            num_samples = len(waveform)\n",
    "\n",
    "        # Main waveform\n",
    "        fig.add_trace(go.Scatter(\n",
    "            x=time[:num_samples],\n",
    "            y=waveform[:num_samples],\n",
    "            mode='lines',\n",
    "            name='Waveform',\n",
    "            line=dict(width=2)\n",
    "        ))\n",
    "\n",
    "        # Optional bits as step plot\n",
    "        if bits is not None:\n",
    "            oversample = len(waveform) // len(bits)\n",
    "            bit_times = time[:len(bits) * oversample:oversample]\n",
    "            bit_values = bits[:num_bits] * amplitude\n",
    "\n",
    "            # Create step-like structure manually for 'post' style\n",
    "            step_x = []\n",
    "            step_y = []\n",
    "            for i in range(num_bits):\n",
    "                step_x.extend([bit_times[i], bit_times[i] + oversample * (time[1] - time[0])])\n",
    "                step_y.extend([bit_values[i], bit_values[i]])\n",
    "\n",
    "            fig.add_trace(go.Scatter(\n",
    "                x=step_x,\n",
    "                y=step_y,\n",
    "                mode='lines',\n",
    "                name='Bits',\n",
    "                line=dict(dash='dash'),\n",
    "                opacity=0.5\n",
    "            ))\n",
    "\n",
    "        fig.update_layout(\n",
    "            title=title + \" sample rate 7.2GHz\",\n",
    "            xaxis_title=\"Time (ns)\",\n",
    "            yaxis_title=\"Amplitude (V)\",\n",
    "            legend=dict(x=0, y=1),\n",
    "            margin=dict(l=40, r=40, t=40, b=40),\n",
    "            template=\"plotly_white\"\n",
    "        )\n",
    "\n",
    "        fig.show()\n",
    "    def save_file(self, waveform_name, wave):\n",
    "        filename = f\"single_channel_{waveform_name}_waveform.csv\"\n",
    "        with open(filename, mode='w', newline='') as file:\n",
    "            writer = csv.writer(file)\n",
    "            writer.writerow([\"Ch1\"])\n",
    "            for value in wave:\n",
    "                writer.writerow([value])\n",
    "        print(f\"Saved: {filename}\")\n"
   ]
  },
  {
   "cell_type": "code",
   "execution_count": 43,
   "id": "f397d956",
   "metadata": {},
   "outputs": [
    {
     "name": "stdout",
     "output_type": "stream",
     "text": [
      "num samples: 720, over sample 720\n"
     ]
    },
    {
     "data": {
      "application/vnd.plotly.v1+json": {
       "config": {
        "plotlyServerURL": "https://plot.ly"
       },
       "data": [
        {
         "line": {
          "width": 2
         },
         "mode": "lines",
         "name": "Waveform",
         "type": "scatter",
         "x": {
          "bdata": "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",
          "dtype": "f8"
         },
         "y": {
          "bdata": "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",
          "dtype": "f8"
         }
        }
       ],
       "layout": {
        "legend": {
         "x": 0,
         "y": 1
        },
        "margin": {
         "b": 40,
         "l": 40,
         "r": 40,
         "t": 40
        },
        "template": {
         "data": {
          "bar": [
           {
            "error_x": {
             "color": "#2a3f5f"
            },
            "error_y": {
             "color": "#2a3f5f"
            },
            "marker": {
             "line": {
              "color": "white",
              "width": 0.5
             },
             "pattern": {
              "fillmode": "overlay",
              "size": 10,
              "solidity": 0.2
             }
            },
            "type": "bar"
           }
          ],
          "barpolar": [
           {
            "marker": {
             "line": {
              "color": "white",
              "width": 0.5
             },
             "pattern": {
              "fillmode": "overlay",
              "size": 10,
              "solidity": 0.2
             }
            },
            "type": "barpolar"
           }
          ],
          "carpet": [
           {
            "aaxis": {
             "endlinecolor": "#2a3f5f",
             "gridcolor": "#C8D4E3",
             "linecolor": "#C8D4E3",
             "minorgridcolor": "#C8D4E3",
             "startlinecolor": "#2a3f5f"
            },
            "baxis": {
             "endlinecolor": "#2a3f5f",
             "gridcolor": "#C8D4E3",
             "linecolor": "#C8D4E3",
             "minorgridcolor": "#C8D4E3",
             "startlinecolor": "#2a3f5f"
            },
            "type": "carpet"
           }
          ],
          "choropleth": [
           {
            "colorbar": {
             "outlinewidth": 0,
             "ticks": ""
            },
            "type": "choropleth"
           }
          ],
          "contour": [
           {
            "colorbar": {
             "outlinewidth": 0,
             "ticks": ""
            },
            "colorscale": [
             [
              0,
              "#0d0887"
             ],
             [
              0.1111111111111111,
              "#46039f"
             ],
             [
              0.2222222222222222,
              "#7201a8"
             ],
             [
              0.3333333333333333,
              "#9c179e"
             ],
             [
              0.4444444444444444,
              "#bd3786"
             ],
             [
              0.5555555555555556,
              "#d8576b"
             ],
             [
              0.6666666666666666,
              "#ed7953"
             ],
             [
              0.7777777777777778,
              "#fb9f3a"
             ],
             [
              0.8888888888888888,
              "#fdca26"
             ],
             [
              1,
              "#f0f921"
             ]
            ],
            "type": "contour"
           }
          ],
          "contourcarpet": [
           {
            "colorbar": {
             "outlinewidth": 0,
             "ticks": ""
            },
            "type": "contourcarpet"
           }
          ],
          "heatmap": [
           {
            "colorbar": {
             "outlinewidth": 0,
             "ticks": ""
            },
            "colorscale": [
             [
              0,
              "#0d0887"
             ],
             [
              0.1111111111111111,
              "#46039f"
             ],
             [
              0.2222222222222222,
              "#7201a8"
             ],
             [
              0.3333333333333333,
              "#9c179e"
             ],
             [
              0.4444444444444444,
              "#bd3786"
             ],
             [
              0.5555555555555556,
              "#d8576b"
             ],
             [
              0.6666666666666666,
              "#ed7953"
             ],
             [
              0.7777777777777778,
              "#fb9f3a"
             ],
             [
              0.8888888888888888,
              "#fdca26"
             ],
             [
              1,
              "#f0f921"
             ]
            ],
            "type": "heatmap"
           }
          ],
          "histogram": [
           {
            "marker": {
             "pattern": {
              "fillmode": "overlay",
              "size": 10,
              "solidity": 0.2
             }
            },
            "type": "histogram"
           }
          ],
          "histogram2d": [
           {
            "colorbar": {
             "outlinewidth": 0,
             "ticks": ""
            },
            "colorscale": [
             [
              0,
              "#0d0887"
             ],
             [
              0.1111111111111111,
              "#46039f"
             ],
             [
              0.2222222222222222,
              "#7201a8"
             ],
             [
              0.3333333333333333,
              "#9c179e"
             ],
             [
              0.4444444444444444,
              "#bd3786"
             ],
             [
              0.5555555555555556,
              "#d8576b"
             ],
             [
              0.6666666666666666,
              "#ed7953"
             ],
             [
              0.7777777777777778,
              "#fb9f3a"
             ],
             [
              0.8888888888888888,
              "#fdca26"
             ],
             [
              1,
              "#f0f921"
             ]
            ],
            "type": "histogram2d"
           }
          ],
          "histogram2dcontour": [
           {
            "colorbar": {
             "outlinewidth": 0,
             "ticks": ""
            },
            "colorscale": [
             [
              0,
              "#0d0887"
             ],
             [
              0.1111111111111111,
              "#46039f"
             ],
             [
              0.2222222222222222,
              "#7201a8"
             ],
             [
              0.3333333333333333,
              "#9c179e"
             ],
             [
              0.4444444444444444,
              "#bd3786"
             ],
             [
              0.5555555555555556,
              "#d8576b"
             ],
             [
              0.6666666666666666,
              "#ed7953"
             ],
             [
              0.7777777777777778,
              "#fb9f3a"
             ],
             [
              0.8888888888888888,
              "#fdca26"
             ],
             [
              1,
              "#f0f921"
             ]
            ],
            "type": "histogram2dcontour"
           }
          ],
          "mesh3d": [
           {
            "colorbar": {
             "outlinewidth": 0,
             "ticks": ""
            },
            "type": "mesh3d"
           }
          ],
          "parcoords": [
           {
            "line": {
             "colorbar": {
              "outlinewidth": 0,
              "ticks": ""
             }
            },
            "type": "parcoords"
           }
          ],
          "pie": [
           {
            "automargin": true,
            "type": "pie"
           }
          ],
          "scatter": [
           {
            "fillpattern": {
             "fillmode": "overlay",
             "size": 10,
             "solidity": 0.2
            },
            "type": "scatter"
           }
          ],
          "scatter3d": [
           {
            "line": {
             "colorbar": {
              "outlinewidth": 0,
              "ticks": ""
             }
            },
            "marker": {
             "colorbar": {
              "outlinewidth": 0,
              "ticks": ""
             }
            },
            "type": "scatter3d"
           }
          ],
          "scattercarpet": [
           {
            "marker": {
             "colorbar": {
              "outlinewidth": 0,
              "ticks": ""
             }
            },
            "type": "scattercarpet"
           }
          ],
          "scattergeo": [
           {
            "marker": {
             "colorbar": {
              "outlinewidth": 0,
              "ticks": ""
             }
            },
            "type": "scattergeo"
           }
          ],
          "scattergl": [
           {
            "marker": {
             "colorbar": {
              "outlinewidth": 0,
              "ticks": ""
             }
            },
            "type": "scattergl"
           }
          ],
          "scattermap": [
           {
            "marker": {
             "colorbar": {
              "outlinewidth": 0,
              "ticks": ""
             }
            },
            "type": "scattermap"
           }
          ],
          "scattermapbox": [
           {
            "marker": {
             "colorbar": {
              "outlinewidth": 0,
              "ticks": ""
             }
            },
            "type": "scattermapbox"
           }
          ],
          "scatterpolar": [
           {
            "marker": {
             "colorbar": {
              "outlinewidth": 0,
              "ticks": ""
             }
            },
            "type": "scatterpolar"
           }
          ],
          "scatterpolargl": [
           {
            "marker": {
             "colorbar": {
              "outlinewidth": 0,
              "ticks": ""
             }
            },
            "type": "scatterpolargl"
           }
          ],
          "scatterternary": [
           {
            "marker": {
             "colorbar": {
              "outlinewidth": 0,
              "ticks": ""
             }
            },
            "type": "scatterternary"
           }
          ],
          "surface": [
           {
            "colorbar": {
             "outlinewidth": 0,
             "ticks": ""
            },
            "colorscale": [
             [
              0,
              "#0d0887"
             ],
             [
              0.1111111111111111,
              "#46039f"
             ],
             [
              0.2222222222222222,
              "#7201a8"
             ],
             [
              0.3333333333333333,
              "#9c179e"
             ],
             [
              0.4444444444444444,
              "#bd3786"
             ],
             [
              0.5555555555555556,
              "#d8576b"
             ],
             [
              0.6666666666666666,
              "#ed7953"
             ],
             [
              0.7777777777777778,
              "#fb9f3a"
             ],
             [
              0.8888888888888888,
              "#fdca26"
             ],
             [
              1,
              "#f0f921"
             ]
            ],
            "type": "surface"
           }
          ],
          "table": [
           {
            "cells": {
             "fill": {
              "color": "#EBF0F8"
             },
             "line": {
              "color": "white"
             }
            },
            "header": {
             "fill": {
              "color": "#C8D4E3"
             },
             "line": {
              "color": "white"
             }
            },
            "type": "table"
           }
          ]
         },
         "layout": {
          "annotationdefaults": {
           "arrowcolor": "#2a3f5f",
           "arrowhead": 0,
           "arrowwidth": 1
          },
          "autotypenumbers": "strict",
          "coloraxis": {
           "colorbar": {
            "outlinewidth": 0,
            "ticks": ""
           }
          },
          "colorscale": {
           "diverging": [
            [
             0,
             "#8e0152"
            ],
            [
             0.1,
             "#c51b7d"
            ],
            [
             0.2,
             "#de77ae"
            ],
            [
             0.3,
             "#f1b6da"
            ],
            [
             0.4,
             "#fde0ef"
            ],
            [
             0.5,
             "#f7f7f7"
            ],
            [
             0.6,
             "#e6f5d0"
            ],
            [
             0.7,
             "#b8e186"
            ],
            [
             0.8,
             "#7fbc41"
            ],
            [
             0.9,
             "#4d9221"
            ],
            [
             1,
             "#276419"
            ]
           ],
           "sequential": [
            [
             0,
             "#0d0887"
            ],
            [
             0.1111111111111111,
             "#46039f"
            ],
            [
             0.2222222222222222,
             "#7201a8"
            ],
            [
             0.3333333333333333,
             "#9c179e"
            ],
            [
             0.4444444444444444,
             "#bd3786"
            ],
            [
             0.5555555555555556,
             "#d8576b"
            ],
            [
             0.6666666666666666,
             "#ed7953"
            ],
            [
             0.7777777777777778,
             "#fb9f3a"
            ],
            [
             0.8888888888888888,
             "#fdca26"
            ],
            [
             1,
             "#f0f921"
            ]
           ],
           "sequentialminus": [
            [
             0,
             "#0d0887"
            ],
            [
             0.1111111111111111,
             "#46039f"
            ],
            [
             0.2222222222222222,
             "#7201a8"
            ],
            [
             0.3333333333333333,
             "#9c179e"
            ],
            [
             0.4444444444444444,
             "#bd3786"
            ],
            [
             0.5555555555555556,
             "#d8576b"
            ],
            [
             0.6666666666666666,
             "#ed7953"
            ],
            [
             0.7777777777777778,
             "#fb9f3a"
            ],
            [
             0.8888888888888888,
             "#fdca26"
            ],
            [
             1,
             "#f0f921"
            ]
           ]
          },
          "colorway": [
           "#636efa",
           "#EF553B",
           "#00cc96",
           "#ab63fa",
           "#FFA15A",
           "#19d3f3",
           "#FF6692",
           "#B6E880",
           "#FF97FF",
           "#FECB52"
          ],
          "font": {
           "color": "#2a3f5f"
          },
          "geo": {
           "bgcolor": "white",
           "lakecolor": "white",
           "landcolor": "white",
           "showlakes": true,
           "showland": true,
           "subunitcolor": "#C8D4E3"
          },
          "hoverlabel": {
           "align": "left"
          },
          "hovermode": "closest",
          "mapbox": {
           "style": "light"
          },
          "paper_bgcolor": "white",
          "plot_bgcolor": "white",
          "polar": {
           "angularaxis": {
            "gridcolor": "#EBF0F8",
            "linecolor": "#EBF0F8",
            "ticks": ""
           },
           "bgcolor": "white",
           "radialaxis": {
            "gridcolor": "#EBF0F8",
            "linecolor": "#EBF0F8",
            "ticks": ""
           }
          },
          "scene": {
           "xaxis": {
            "backgroundcolor": "white",
            "gridcolor": "#DFE8F3",
            "gridwidth": 2,
            "linecolor": "#EBF0F8",
            "showbackground": true,
            "ticks": "",
            "zerolinecolor": "#EBF0F8"
           },
           "yaxis": {
            "backgroundcolor": "white",
            "gridcolor": "#DFE8F3",
            "gridwidth": 2,
            "linecolor": "#EBF0F8",
            "showbackground": true,
            "ticks": "",
            "zerolinecolor": "#EBF0F8"
           },
           "zaxis": {
            "backgroundcolor": "white",
            "gridcolor": "#DFE8F3",
            "gridwidth": 2,
            "linecolor": "#EBF0F8",
            "showbackground": true,
            "ticks": "",
            "zerolinecolor": "#EBF0F8"
           }
          },
          "shapedefaults": {
           "line": {
            "color": "#2a3f5f"
           }
          },
          "ternary": {
           "aaxis": {
            "gridcolor": "#DFE8F3",
            "linecolor": "#A2B1C6",
            "ticks": ""
           },
           "baxis": {
            "gridcolor": "#DFE8F3",
            "linecolor": "#A2B1C6",
            "ticks": ""
           },
           "bgcolor": "white",
           "caxis": {
            "gridcolor": "#DFE8F3",
            "linecolor": "#A2B1C6",
            "ticks": ""
           }
          },
          "title": {
           "x": 0.05
          },
          "xaxis": {
           "automargin": true,
           "gridcolor": "#EBF0F8",
           "linecolor": "#EBF0F8",
           "ticks": "",
           "title": {
            "standoff": 15
           },
           "zerolinecolor": "#EBF0F8",
           "zerolinewidth": 2
          },
          "yaxis": {
           "automargin": true,
           "gridcolor": "#EBF0F8",
           "linecolor": "#EBF0F8",
           "ticks": "",
           "title": {
            "standoff": 15
           },
           "zerolinecolor": "#EBF0F8",
           "zerolinewidth": 2
          }
         }
        },
        "title": {
         "text": "LFM_1.5_MHz_center_freq sample rate 7.2GHz"
        },
        "xaxis": {
         "title": {
          "text": "Time (ns)"
         }
        },
        "yaxis": {
         "title": {
          "text": "Amplitude (V)"
         }
        }
       }
      }
     },
     "metadata": {},
     "output_type": "display_data"
    },
    {
     "data": {
      "application/vnd.plotly.v1+json": {
       "config": {
        "plotlyServerURL": "https://plot.ly"
       },
       "data": [
        {
         "mode": "lines",
         "name": "FFT Signal",
         "type": "scatter",
         "x": {
          "bdata": "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",
          "dtype": "f8"
         },
         "y": {
          "bdata": "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",
          "dtype": "f8"
         }
        }
       ],
       "layout": {
        "template": {
         "data": {
          "bar": [
           {
            "error_x": {
             "color": "#2a3f5f"
            },
            "error_y": {
             "color": "#2a3f5f"
            },
            "marker": {
             "line": {
              "color": "white",
              "width": 0.5
             },
             "pattern": {
              "fillmode": "overlay",
              "size": 10,
              "solidity": 0.2
             }
            },
            "type": "bar"
           }
          ],
          "barpolar": [
           {
            "marker": {
             "line": {
              "color": "white",
              "width": 0.5
             },
             "pattern": {
              "fillmode": "overlay",
              "size": 10,
              "solidity": 0.2
             }
            },
            "type": "barpolar"
           }
          ],
          "carpet": [
           {
            "aaxis": {
             "endlinecolor": "#2a3f5f",
             "gridcolor": "#C8D4E3",
             "linecolor": "#C8D4E3",
             "minorgridcolor": "#C8D4E3",
             "startlinecolor": "#2a3f5f"
            },
            "baxis": {
             "endlinecolor": "#2a3f5f",
             "gridcolor": "#C8D4E3",
             "linecolor": "#C8D4E3",
             "minorgridcolor": "#C8D4E3",
             "startlinecolor": "#2a3f5f"
            },
            "type": "carpet"
           }
          ],
          "choropleth": [
           {
            "colorbar": {
             "outlinewidth": 0,
             "ticks": ""
            },
            "type": "choropleth"
           }
          ],
          "contour": [
           {
            "colorbar": {
             "outlinewidth": 0,
             "ticks": ""
            },
            "colorscale": [
             [
              0,
              "#0d0887"
             ],
             [
              0.1111111111111111,
              "#46039f"
             ],
             [
              0.2222222222222222,
              "#7201a8"
             ],
             [
              0.3333333333333333,
              "#9c179e"
             ],
             [
              0.4444444444444444,
              "#bd3786"
             ],
             [
              0.5555555555555556,
              "#d8576b"
             ],
             [
              0.6666666666666666,
              "#ed7953"
             ],
             [
              0.7777777777777778,
              "#fb9f3a"
             ],
             [
              0.8888888888888888,
              "#fdca26"
             ],
             [
              1,
              "#f0f921"
             ]
            ],
            "type": "contour"
           }
          ],
          "contourcarpet": [
           {
            "colorbar": {
             "outlinewidth": 0,
             "ticks": ""
            },
            "type": "contourcarpet"
           }
          ],
          "heatmap": [
           {
            "colorbar": {
             "outlinewidth": 0,
             "ticks": ""
            },
            "colorscale": [
             [
              0,
              "#0d0887"
             ],
             [
              0.1111111111111111,
              "#46039f"
             ],
             [
              0.2222222222222222,
              "#7201a8"
             ],
             [
              0.3333333333333333,
              "#9c179e"
             ],
             [
              0.4444444444444444,
              "#bd3786"
             ],
             [
              0.5555555555555556,
              "#d8576b"
             ],
             [
              0.6666666666666666,
              "#ed7953"
             ],
             [
              0.7777777777777778,
              "#fb9f3a"
             ],
             [
              0.8888888888888888,
              "#fdca26"
             ],
             [
              1,
              "#f0f921"
             ]
            ],
            "type": "heatmap"
           }
          ],
          "histogram": [
           {
            "marker": {
             "pattern": {
              "fillmode": "overlay",
              "size": 10,
              "solidity": 0.2
             }
            },
            "type": "histogram"
           }
          ],
          "histogram2d": [
           {
            "colorbar": {
             "outlinewidth": 0,
             "ticks": ""
            },
            "colorscale": [
             [
              0,
              "#0d0887"
             ],
             [
              0.1111111111111111,
              "#46039f"
             ],
             [
              0.2222222222222222,
              "#7201a8"
             ],
             [
              0.3333333333333333,
              "#9c179e"
             ],
             [
              0.4444444444444444,
              "#bd3786"
             ],
             [
              0.5555555555555556,
              "#d8576b"
             ],
             [
              0.6666666666666666,
              "#ed7953"
             ],
             [
              0.7777777777777778,
              "#fb9f3a"
             ],
             [
              0.8888888888888888,
              "#fdca26"
             ],
             [
              1,
              "#f0f921"
             ]
            ],
            "type": "histogram2d"
           }
          ],
          "histogram2dcontour": [
           {
            "colorbar": {
             "outlinewidth": 0,
             "ticks": ""
            },
            "colorscale": [
             [
              0,
              "#0d0887"
             ],
             [
              0.1111111111111111,
              "#46039f"
             ],
             [
              0.2222222222222222,
              "#7201a8"
             ],
             [
              0.3333333333333333,
              "#9c179e"
             ],
             [
              0.4444444444444444,
              "#bd3786"
             ],
             [
              0.5555555555555556,
              "#d8576b"
             ],
             [
              0.6666666666666666,
              "#ed7953"
             ],
             [
              0.7777777777777778,
              "#fb9f3a"
             ],
             [
              0.8888888888888888,
              "#fdca26"
             ],
             [
              1,
              "#f0f921"
             ]
            ],
            "type": "histogram2dcontour"
           }
          ],
          "mesh3d": [
           {
            "colorbar": {
             "outlinewidth": 0,
             "ticks": ""
            },
            "type": "mesh3d"
           }
          ],
          "parcoords": [
           {
            "line": {
             "colorbar": {
              "outlinewidth": 0,
              "ticks": ""
             }
            },
            "type": "parcoords"
           }
          ],
          "pie": [
           {
            "automargin": true,
            "type": "pie"
           }
          ],
          "scatter": [
           {
            "fillpattern": {
             "fillmode": "overlay",
             "size": 10,
             "solidity": 0.2
            },
            "type": "scatter"
           }
          ],
          "scatter3d": [
           {
            "line": {
             "colorbar": {
              "outlinewidth": 0,
              "ticks": ""
             }
            },
            "marker": {
             "colorbar": {
              "outlinewidth": 0,
              "ticks": ""
             }
            },
            "type": "scatter3d"
           }
          ],
          "scattercarpet": [
           {
            "marker": {
             "colorbar": {
              "outlinewidth": 0,
              "ticks": ""
             }
            },
            "type": "scattercarpet"
           }
          ],
          "scattergeo": [
           {
            "marker": {
             "colorbar": {
              "outlinewidth": 0,
              "ticks": ""
             }
            },
            "type": "scattergeo"
           }
          ],
          "scattergl": [
           {
            "marker": {
             "colorbar": {
              "outlinewidth": 0,
              "ticks": ""
             }
            },
            "type": "scattergl"
           }
          ],
          "scattermap": [
           {
            "marker": {
             "colorbar": {
              "outlinewidth": 0,
              "ticks": ""
             }
            },
            "type": "scattermap"
           }
          ],
          "scattermapbox": [
           {
            "marker": {
             "colorbar": {
              "outlinewidth": 0,
              "ticks": ""
             }
            },
            "type": "scattermapbox"
           }
          ],
          "scatterpolar": [
           {
            "marker": {
             "colorbar": {
              "outlinewidth": 0,
              "ticks": ""
             }
            },
            "type": "scatterpolar"
           }
          ],
          "scatterpolargl": [
           {
            "marker": {
             "colorbar": {
              "outlinewidth": 0,
              "ticks": ""
             }
            },
            "type": "scatterpolargl"
           }
          ],
          "scatterternary": [
           {
            "marker": {
             "colorbar": {
              "outlinewidth": 0,
              "ticks": ""
             }
            },
            "type": "scatterternary"
           }
          ],
          "surface": [
           {
            "colorbar": {
             "outlinewidth": 0,
             "ticks": ""
            },
            "colorscale": [
             [
              0,
              "#0d0887"
             ],
             [
              0.1111111111111111,
              "#46039f"
             ],
             [
              0.2222222222222222,
              "#7201a8"
             ],
             [
              0.3333333333333333,
              "#9c179e"
             ],
             [
              0.4444444444444444,
              "#bd3786"
             ],
             [
              0.5555555555555556,
              "#d8576b"
             ],
             [
              0.6666666666666666,
              "#ed7953"
             ],
             [
              0.7777777777777778,
              "#fb9f3a"
             ],
             [
              0.8888888888888888,
              "#fdca26"
             ],
             [
              1,
              "#f0f921"
             ]
            ],
            "type": "surface"
           }
          ],
          "table": [
           {
            "cells": {
             "fill": {
              "color": "#EBF0F8"
             },
             "line": {
              "color": "white"
             }
            },
            "header": {
             "fill": {
              "color": "#C8D4E3"
             },
             "line": {
              "color": "white"
             }
            },
            "type": "table"
           }
          ]
         },
         "layout": {
          "annotationdefaults": {
           "arrowcolor": "#2a3f5f",
           "arrowhead": 0,
           "arrowwidth": 1
          },
          "autotypenumbers": "strict",
          "coloraxis": {
           "colorbar": {
            "outlinewidth": 0,
            "ticks": ""
           }
          },
          "colorscale": {
           "diverging": [
            [
             0,
             "#8e0152"
            ],
            [
             0.1,
             "#c51b7d"
            ],
            [
             0.2,
             "#de77ae"
            ],
            [
             0.3,
             "#f1b6da"
            ],
            [
             0.4,
             "#fde0ef"
            ],
            [
             0.5,
             "#f7f7f7"
            ],
            [
             0.6,
             "#e6f5d0"
            ],
            [
             0.7,
             "#b8e186"
            ],
            [
             0.8,
             "#7fbc41"
            ],
            [
             0.9,
             "#4d9221"
            ],
            [
             1,
             "#276419"
            ]
           ],
           "sequential": [
            [
             0,
             "#0d0887"
            ],
            [
             0.1111111111111111,
             "#46039f"
            ],
            [
             0.2222222222222222,
             "#7201a8"
            ],
            [
             0.3333333333333333,
             "#9c179e"
            ],
            [
             0.4444444444444444,
             "#bd3786"
            ],
            [
             0.5555555555555556,
             "#d8576b"
            ],
            [
             0.6666666666666666,
             "#ed7953"
            ],
            [
             0.7777777777777778,
             "#fb9f3a"
            ],
            [
             0.8888888888888888,
             "#fdca26"
            ],
            [
             1,
             "#f0f921"
            ]
           ],
           "sequentialminus": [
            [
             0,
             "#0d0887"
            ],
            [
             0.1111111111111111,
             "#46039f"
            ],
            [
             0.2222222222222222,
             "#7201a8"
            ],
            [
             0.3333333333333333,
             "#9c179e"
            ],
            [
             0.4444444444444444,
             "#bd3786"
            ],
            [
             0.5555555555555556,
             "#d8576b"
            ],
            [
             0.6666666666666666,
             "#ed7953"
            ],
            [
             0.7777777777777778,
             "#fb9f3a"
            ],
            [
             0.8888888888888888,
             "#fdca26"
            ],
            [
             1,
             "#f0f921"
            ]
           ]
          },
          "colorway": [
           "#636efa",
           "#EF553B",
           "#00cc96",
           "#ab63fa",
           "#FFA15A",
           "#19d3f3",
           "#FF6692",
           "#B6E880",
           "#FF97FF",
           "#FECB52"
          ],
          "font": {
           "color": "#2a3f5f"
          },
          "geo": {
           "bgcolor": "white",
           "lakecolor": "white",
           "landcolor": "white",
           "showlakes": true,
           "showland": true,
           "subunitcolor": "#C8D4E3"
          },
          "hoverlabel": {
           "align": "left"
          },
          "hovermode": "closest",
          "mapbox": {
           "style": "light"
          },
          "paper_bgcolor": "white",
          "plot_bgcolor": "white",
          "polar": {
           "angularaxis": {
            "gridcolor": "#EBF0F8",
            "linecolor": "#EBF0F8",
            "ticks": ""
           },
           "bgcolor": "white",
           "radialaxis": {
            "gridcolor": "#EBF0F8",
            "linecolor": "#EBF0F8",
            "ticks": ""
           }
          },
          "scene": {
           "xaxis": {
            "backgroundcolor": "white",
            "gridcolor": "#DFE8F3",
            "gridwidth": 2,
            "linecolor": "#EBF0F8",
            "showbackground": true,
            "ticks": "",
            "zerolinecolor": "#EBF0F8"
           },
           "yaxis": {
            "backgroundcolor": "white",
            "gridcolor": "#DFE8F3",
            "gridwidth": 2,
            "linecolor": "#EBF0F8",
            "showbackground": true,
            "ticks": "",
            "zerolinecolor": "#EBF0F8"
           },
           "zaxis": {
            "backgroundcolor": "white",
            "gridcolor": "#DFE8F3",
            "gridwidth": 2,
            "linecolor": "#EBF0F8",
            "showbackground": true,
            "ticks": "",
            "zerolinecolor": "#EBF0F8"
           }
          },
          "shapedefaults": {
           "line": {
            "color": "#2a3f5f"
           }
          },
          "ternary": {
           "aaxis": {
            "gridcolor": "#DFE8F3",
            "linecolor": "#A2B1C6",
            "ticks": ""
           },
           "baxis": {
            "gridcolor": "#DFE8F3",
            "linecolor": "#A2B1C6",
            "ticks": ""
           },
           "bgcolor": "white",
           "caxis": {
            "gridcolor": "#DFE8F3",
            "linecolor": "#A2B1C6",
            "ticks": ""
           }
          },
          "title": {
           "x": 0.05
          },
          "xaxis": {
           "automargin": true,
           "gridcolor": "#EBF0F8",
           "linecolor": "#EBF0F8",
           "ticks": "",
           "title": {
            "standoff": 15
           },
           "zerolinecolor": "#EBF0F8",
           "zerolinewidth": 2
          },
          "yaxis": {
           "automargin": true,
           "gridcolor": "#EBF0F8",
           "linecolor": "#EBF0F8",
           "ticks": "",
           "title": {
            "standoff": 15
           },
           "zerolinecolor": "#EBF0F8",
           "zerolinewidth": 2
          }
         }
        },
        "title": {
         "text": "FFT Spectrum"
        },
        "xaxis": {
         "range": [
          0,
          3.6
         ],
         "title": {
          "text": "Frequency (GHz)"
         }
        },
        "yaxis": {
         "title": {
          "text": "Amplitude (log10 scale)"
         }
        }
       }
      }
     },
     "metadata": {},
     "output_type": "display_data"
    }
   ],
   "source": [
    "#4634156748\n",
    "import plotly.graph_objects as go\n",
    "from numpy.fft import fftshift, fft\n",
    "generator = WaveformGenerator()\n",
    "pulse_width = 100\n",
    "bandwidth = 0.25\n",
    "c_freq = 1.5\n",
    "\n",
    "sampls, time, wave = generator.sinusoidal(amplitude=1, frequency=.01)\n",
    "#generator.plot(time=time, waveform=wave, amplitude=amplitude, title= f\"Sinusoidal wave of frequency {frequency} MHz and \")\n",
    "#num_samples, prbs_time, bits, waveform = generator.PRBS(amplitude= amplitude, order=order, repetition_rate=repetition_rate, max_bits= 100)\n",
    "#generator.plot(time=prbs_time, waveform= waveform, amplitude=amplitude, bits=bits, title=f\"PRBS of order {order} and repetition rate {repetition_rate} MHz and\")\n",
    "T, W = generator.generate_lfm( center_freq=c_freq, bandwidth=bandwidth, pulse_width=pulse_width)\n",
    "generator.plot(amplitude=1, waveform=W, time=T, title=f'LFM_{c_freq}_MHz_center_freq')\n",
    "wave = fftshift(fft(W))\n",
    "wave = np.absolute(wave) ** 2\n",
    "def fft_signal(w, iota):\n",
    "        N = 2 ** np.ceil(np.log2(len(w) * 4))\n",
    "        f, x = signal.periodogram(w, window='hann', nfft=N, fs=1e9 * iota, scaling='spectrum')\n",
    "        f = f / 1e9\n",
    "        epsilon = 1e-10\n",
    "        x = 10 * (np.log10((x + epsilon) / 50e-3))\n",
    "        return [f, x]\n",
    "f, x = fft_signal(W, 7.2)\n",
    "N = len(wave)\n",
    "n = np.arange(N)\n",
    "T = N/ (7.2 * 1e9)  # Convert to time in seconds\n",
    "freq = n/T\n",
    "fig = go.Figure(data=go.Scatter(x = freq/1e9, y=np.log10(wave/1e-3), mode='lines', name='FFT Signal'))\n",
    "#limit x axis\n",
    "fig.update_layout(\n",
    "    xaxis=dict(\n",
    "        range=[0, 3.6],  # Limit x-axis from 0 to 3.6 GHz (Nyquist)\n",
    "        title=\"Frequency (GHz)\"\n",
    "    ),\n",
    "    yaxis=dict(\n",
    "        title=\"Amplitude (log10 scale)\"\n",
    "    ),\n",
    "    title=\"FFT Spectrum\",\n",
    "    template=\"plotly_white\"\n",
    ")\n",
    "\n",
    "fig.show()"
   ]
  },
  {
   "cell_type": "code",
   "execution_count": 5,
   "id": "1bdfc7f3",
   "metadata": {},
   "outputs": [
    {
     "data": {
      "application/vnd.plotly.v1+json": {
       "config": {
        "plotlyServerURL": "https://plot.ly"
       },
       "data": [
        {
         "mode": "lines",
         "name": "Combined Waveform",
         "type": "scatter",
         "x": {
          "bdata": "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",
          "dtype": "f8"
         },
         "y": {
          "bdata": "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",
          "dtype": "f8"
         }
        }
       ],
       "layout": {
        "template": {
         "data": {
          "bar": [
           {
            "error_x": {
             "color": "#2a3f5f"
            },
            "error_y": {
             "color": "#2a3f5f"
            },
            "marker": {
             "line": {
              "color": "white",
              "width": 0.5
             },
             "pattern": {
              "fillmode": "overlay",
              "size": 10,
              "solidity": 0.2
             }
            },
            "type": "bar"
           }
          ],
          "barpolar": [
           {
            "marker": {
             "line": {
              "color": "white",
              "width": 0.5
             },
             "pattern": {
              "fillmode": "overlay",
              "size": 10,
              "solidity": 0.2
             }
            },
            "type": "barpolar"
           }
          ],
          "carpet": [
           {
            "aaxis": {
             "endlinecolor": "#2a3f5f",
             "gridcolor": "#C8D4E3",
             "linecolor": "#C8D4E3",
             "minorgridcolor": "#C8D4E3",
             "startlinecolor": "#2a3f5f"
            },
            "baxis": {
             "endlinecolor": "#2a3f5f",
             "gridcolor": "#C8D4E3",
             "linecolor": "#C8D4E3",
             "minorgridcolor": "#C8D4E3",
             "startlinecolor": "#2a3f5f"
            },
            "type": "carpet"
           }
          ],
          "choropleth": [
           {
            "colorbar": {
             "outlinewidth": 0,
             "ticks": ""
            },
            "type": "choropleth"
           }
          ],
          "contour": [
           {
            "colorbar": {
             "outlinewidth": 0,
             "ticks": ""
            },
            "colorscale": [
             [
              0,
              "#0d0887"
             ],
             [
              0.1111111111111111,
              "#46039f"
             ],
             [
              0.2222222222222222,
              "#7201a8"
             ],
             [
              0.3333333333333333,
              "#9c179e"
             ],
             [
              0.4444444444444444,
              "#bd3786"
             ],
             [
              0.5555555555555556,
              "#d8576b"
             ],
             [
              0.6666666666666666,
              "#ed7953"
             ],
             [
              0.7777777777777778,
              "#fb9f3a"
             ],
             [
              0.8888888888888888,
              "#fdca26"
             ],
             [
              1,
              "#f0f921"
             ]
            ],
            "type": "contour"
           }
          ],
          "contourcarpet": [
           {
            "colorbar": {
             "outlinewidth": 0,
             "ticks": ""
            },
            "type": "contourcarpet"
           }
          ],
          "heatmap": [
           {
            "colorbar": {
             "outlinewidth": 0,
             "ticks": ""
            },
            "colorscale": [
             [
              0,
              "#0d0887"
             ],
             [
              0.1111111111111111,
              "#46039f"
             ],
             [
              0.2222222222222222,
              "#7201a8"
             ],
             [
              0.3333333333333333,
              "#9c179e"
             ],
             [
              0.4444444444444444,
              "#bd3786"
             ],
             [
              0.5555555555555556,
              "#d8576b"
             ],
             [
              0.6666666666666666,
              "#ed7953"
             ],
             [
              0.7777777777777778,
              "#fb9f3a"
             ],
             [
              0.8888888888888888,
              "#fdca26"
             ],
             [
              1,
              "#f0f921"
             ]
            ],
            "type": "heatmap"
           }
          ],
          "histogram": [
           {
            "marker": {
             "pattern": {
              "fillmode": "overlay",
              "size": 10,
              "solidity": 0.2
             }
            },
            "type": "histogram"
           }
          ],
          "histogram2d": [
           {
            "colorbar": {
             "outlinewidth": 0,
             "ticks": ""
            },
            "colorscale": [
             [
              0,
              "#0d0887"
             ],
             [
              0.1111111111111111,
              "#46039f"
             ],
             [
              0.2222222222222222,
              "#7201a8"
             ],
             [
              0.3333333333333333,
              "#9c179e"
             ],
             [
              0.4444444444444444,
              "#bd3786"
             ],
             [
              0.5555555555555556,
              "#d8576b"
             ],
             [
              0.6666666666666666,
              "#ed7953"
             ],
             [
              0.7777777777777778,
              "#fb9f3a"
             ],
             [
              0.8888888888888888,
              "#fdca26"
             ],
             [
              1,
              "#f0f921"
             ]
            ],
            "type": "histogram2d"
           }
          ],
          "histogram2dcontour": [
           {
            "colorbar": {
             "outlinewidth": 0,
             "ticks": ""
            },
            "colorscale": [
             [
              0,
              "#0d0887"
             ],
             [
              0.1111111111111111,
              "#46039f"
             ],
             [
              0.2222222222222222,
              "#7201a8"
             ],
             [
              0.3333333333333333,
              "#9c179e"
             ],
             [
              0.4444444444444444,
              "#bd3786"
             ],
             [
              0.5555555555555556,
              "#d8576b"
             ],
             [
              0.6666666666666666,
              "#ed7953"
             ],
             [
              0.7777777777777778,
              "#fb9f3a"
             ],
             [
              0.8888888888888888,
              "#fdca26"
             ],
             [
              1,
              "#f0f921"
             ]
            ],
            "type": "histogram2dcontour"
           }
          ],
          "mesh3d": [
           {
            "colorbar": {
             "outlinewidth": 0,
             "ticks": ""
            },
            "type": "mesh3d"
           }
          ],
          "parcoords": [
           {
            "line": {
             "colorbar": {
              "outlinewidth": 0,
              "ticks": ""
             }
            },
            "type": "parcoords"
           }
          ],
          "pie": [
           {
            "automargin": true,
            "type": "pie"
           }
          ],
          "scatter": [
           {
            "fillpattern": {
             "fillmode": "overlay",
             "size": 10,
             "solidity": 0.2
            },
            "type": "scatter"
           }
          ],
          "scatter3d": [
           {
            "line": {
             "colorbar": {
              "outlinewidth": 0,
              "ticks": ""
             }
            },
            "marker": {
             "colorbar": {
              "outlinewidth": 0,
              "ticks": ""
             }
            },
            "type": "scatter3d"
           }
          ],
          "scattercarpet": [
           {
            "marker": {
             "colorbar": {
              "outlinewidth": 0,
              "ticks": ""
             }
            },
            "type": "scattercarpet"
           }
          ],
          "scattergeo": [
           {
            "marker": {
             "colorbar": {
              "outlinewidth": 0,
              "ticks": ""
             }
            },
            "type": "scattergeo"
           }
          ],
          "scattergl": [
           {
            "marker": {
             "colorbar": {
              "outlinewidth": 0,
              "ticks": ""
             }
            },
            "type": "scattergl"
           }
          ],
          "scattermap": [
           {
            "marker": {
             "colorbar": {
              "outlinewidth": 0,
              "ticks": ""
             }
            },
            "type": "scattermap"
           }
          ],
          "scattermapbox": [
           {
            "marker": {
             "colorbar": {
              "outlinewidth": 0,
              "ticks": ""
             }
            },
            "type": "scattermapbox"
           }
          ],
          "scatterpolar": [
           {
            "marker": {
             "colorbar": {
              "outlinewidth": 0,
              "ticks": ""
             }
            },
            "type": "scatterpolar"
           }
          ],
          "scatterpolargl": [
           {
            "marker": {
             "colorbar": {
              "outlinewidth": 0,
              "ticks": ""
             }
            },
            "type": "scatterpolargl"
           }
          ],
          "scatterternary": [
           {
            "marker": {
             "colorbar": {
              "outlinewidth": 0,
              "ticks": ""
             }
            },
            "type": "scatterternary"
           }
          ],
          "surface": [
           {
            "colorbar": {
             "outlinewidth": 0,
             "ticks": ""
            },
            "colorscale": [
             [
              0,
              "#0d0887"
             ],
             [
              0.1111111111111111,
              "#46039f"
             ],
             [
              0.2222222222222222,
              "#7201a8"
             ],
             [
              0.3333333333333333,
              "#9c179e"
             ],
             [
              0.4444444444444444,
              "#bd3786"
             ],
             [
              0.5555555555555556,
              "#d8576b"
             ],
             [
              0.6666666666666666,
              "#ed7953"
             ],
             [
              0.7777777777777778,
              "#fb9f3a"
             ],
             [
              0.8888888888888888,
              "#fdca26"
             ],
             [
              1,
              "#f0f921"
             ]
            ],
            "type": "surface"
           }
          ],
          "table": [
           {
            "cells": {
             "fill": {
              "color": "#EBF0F8"
             },
             "line": {
              "color": "white"
             }
            },
            "header": {
             "fill": {
              "color": "#C8D4E3"
             },
             "line": {
              "color": "white"
             }
            },
            "type": "table"
           }
          ]
         },
         "layout": {
          "annotationdefaults": {
           "arrowcolor": "#2a3f5f",
           "arrowhead": 0,
           "arrowwidth": 1
          },
          "autotypenumbers": "strict",
          "coloraxis": {
           "colorbar": {
            "outlinewidth": 0,
            "ticks": ""
           }
          },
          "colorscale": {
           "diverging": [
            [
             0,
             "#8e0152"
            ],
            [
             0.1,
             "#c51b7d"
            ],
            [
             0.2,
             "#de77ae"
            ],
            [
             0.3,
             "#f1b6da"
            ],
            [
             0.4,
             "#fde0ef"
            ],
            [
             0.5,
             "#f7f7f7"
            ],
            [
             0.6,
             "#e6f5d0"
            ],
            [
             0.7,
             "#b8e186"
            ],
            [
             0.8,
             "#7fbc41"
            ],
            [
             0.9,
             "#4d9221"
            ],
            [
             1,
             "#276419"
            ]
           ],
           "sequential": [
            [
             0,
             "#0d0887"
            ],
            [
             0.1111111111111111,
             "#46039f"
            ],
            [
             0.2222222222222222,
             "#7201a8"
            ],
            [
             0.3333333333333333,
             "#9c179e"
            ],
            [
             0.4444444444444444,
             "#bd3786"
            ],
            [
             0.5555555555555556,
             "#d8576b"
            ],
            [
             0.6666666666666666,
             "#ed7953"
            ],
            [
             0.7777777777777778,
             "#fb9f3a"
            ],
            [
             0.8888888888888888,
             "#fdca26"
            ],
            [
             1,
             "#f0f921"
            ]
           ],
           "sequentialminus": [
            [
             0,
             "#0d0887"
            ],
            [
             0.1111111111111111,
             "#46039f"
            ],
            [
             0.2222222222222222,
             "#7201a8"
            ],
            [
             0.3333333333333333,
             "#9c179e"
            ],
            [
             0.4444444444444444,
             "#bd3786"
            ],
            [
             0.5555555555555556,
             "#d8576b"
            ],
            [
             0.6666666666666666,
             "#ed7953"
            ],
            [
             0.7777777777777778,
             "#fb9f3a"
            ],
            [
             0.8888888888888888,
             "#fdca26"
            ],
            [
             1,
             "#f0f921"
            ]
           ]
          },
          "colorway": [
           "#636efa",
           "#EF553B",
           "#00cc96",
           "#ab63fa",
           "#FFA15A",
           "#19d3f3",
           "#FF6692",
           "#B6E880",
           "#FF97FF",
           "#FECB52"
          ],
          "font": {
           "color": "#2a3f5f"
          },
          "geo": {
           "bgcolor": "white",
           "lakecolor": "white",
           "landcolor": "white",
           "showlakes": true,
           "showland": true,
           "subunitcolor": "#C8D4E3"
          },
          "hoverlabel": {
           "align": "left"
          },
          "hovermode": "closest",
          "mapbox": {
           "style": "light"
          },
          "paper_bgcolor": "white",
          "plot_bgcolor": "white",
          "polar": {
           "angularaxis": {
            "gridcolor": "#EBF0F8",
            "linecolor": "#EBF0F8",
            "ticks": ""
           },
           "bgcolor": "white",
           "radialaxis": {
            "gridcolor": "#EBF0F8",
            "linecolor": "#EBF0F8",
            "ticks": ""
           }
          },
          "scene": {
           "xaxis": {
            "backgroundcolor": "white",
            "gridcolor": "#DFE8F3",
            "gridwidth": 2,
            "linecolor": "#EBF0F8",
            "showbackground": true,
            "ticks": "",
            "zerolinecolor": "#EBF0F8"
           },
           "yaxis": {
            "backgroundcolor": "white",
            "gridcolor": "#DFE8F3",
            "gridwidth": 2,
            "linecolor": "#EBF0F8",
            "showbackground": true,
            "ticks": "",
            "zerolinecolor": "#EBF0F8"
           },
           "zaxis": {
            "backgroundcolor": "white",
            "gridcolor": "#DFE8F3",
            "gridwidth": 2,
            "linecolor": "#EBF0F8",
            "showbackground": true,
            "ticks": "",
            "zerolinecolor": "#EBF0F8"
           }
          },
          "shapedefaults": {
           "line": {
            "color": "#2a3f5f"
           }
          },
          "ternary": {
           "aaxis": {
            "gridcolor": "#DFE8F3",
            "linecolor": "#A2B1C6",
            "ticks": ""
           },
           "baxis": {
            "gridcolor": "#DFE8F3",
            "linecolor": "#A2B1C6",
            "ticks": ""
           },
           "bgcolor": "white",
           "caxis": {
            "gridcolor": "#DFE8F3",
            "linecolor": "#A2B1C6",
            "ticks": ""
           }
          },
          "title": {
           "x": 0.05
          },
          "xaxis": {
           "automargin": true,
           "gridcolor": "#EBF0F8",
           "linecolor": "#EBF0F8",
           "ticks": "",
           "title": {
            "standoff": 15
           },
           "zerolinecolor": "#EBF0F8",
           "zerolinewidth": 2
          },
          "yaxis": {
           "automargin": true,
           "gridcolor": "#EBF0F8",
           "linecolor": "#EBF0F8",
           "ticks": "",
           "title": {
            "standoff": 15
           },
           "zerolinecolor": "#EBF0F8",
           "zerolinewidth": 2
          }
         }
        },
        "title": {
         "text": "Time Domain: sine, step_lfm"
        },
        "xaxis": {
         "title": {
          "text": "Time (µs)"
         }
        },
        "yaxis": {
         "title": {
          "text": "Amplitude"
         }
        }
       }
      }
     },
     "metadata": {},
     "output_type": "display_data"
    },
    {
     "data": {
      "application/vnd.plotly.v1+json": {
       "config": {
        "plotlyServerURL": "https://plot.ly"
       },
       "data": [
        {
         "mode": "lines",
         "name": "FFT Magnitude",
         "type": "scatter",
         "x": {
          "bdata": "ZmZmZmZmDsBX9nJlL1cOwEiGf2T4Rw7AORaMY8E4DsAqpphiiikOwBo2pWFTGg7AC8axYBwLDsD8Vb5f5fsNwO3lyl6u7A3A3nXXXXfdDcDOBeRcQM4NwL+V8FsJvw3AsCX9WtKvDcChtQlam6ANwJJFFllkkQ3AgtUiWC2CDcBzZS9X9nINwGT1O1a/Yw3AVYVIVYhUDcBGFVVUUUUNwDelYVMaNg3AJzVuUuMmDcAYxXpRrBcNwAlVh1B1CA3A+uSTTz75DMDrdKBOB+oMwNsErU3Q2gzAzJS5TJnLDMC8JMZLYrwMwK200korrQzAnkTfSfSdDMCO1OtIvY4MwH9k+EeGfwzAcPQER09wDMBhhBFGGGEMwFIUHkXhUQzAQqQqRKpCDMAzNDdDczMMwCTEQ0I8JAzAFVRQQQUVDMAG5FxAzgUMwPZzaT+X9gvA5wN2PmDnC8DYk4I9KdgLwMkjjzzyyAvAurObO7u5C8CqQ6g6hKoLwJvTtDlNmwvAjGPBOBaMC8B9880333wLwG6D2jaobQvAXhPnNXFeC8BPo/M0Ok8LwEAzADQDQAvAMcMMM8wwC8AiUxkylSELwBLjJTFeEgvAA3MyMCcDC8D0Aj8v8PMKwOWSSy655ArA1iJYLYLVCsDHsmQsS8YKwLdCcSsUtwrAqNJ9Kt2nCsCZYoopppgKwIrylihviQrAe4KjJzh6CsBrErAmAWsKwFyivCXKWwrATTLJJJNMCsA+wtUjXD0KwC9S4iIlLgrAH+LuIe4eCsAPcvsgtw8KwAACCCCAAArA8ZEUH0nxCcDiISEeEuIJwNKxLR3b0gnAw0E6HKTDCcC00UYbbbQJwKVhUxo2pQnAlvFfGf+VCcCGgWwYyIYJwHcReReRdwnAaKGFFlpoCcBZMZIVI1kJwErBnhTsSQnAOlGrE7U6CcAr4bcSfisJwBxxxBFHHAnADQHREBANCcD+kN0P2f0IwO4g6g6i7gjA37D2DWvfCMDQQAMNNNAIwMHQDwz9wAjAsmAcC8axCMCi8CgKj6IIwJOANQlYkwjAhBBCCCGECMB1oE4H6nQIwGYwWwazZQjAVsBnBXxWCMBHUHQERUcIwDjggAMOOAjAKXCNAtcoCMAaAJoBoBkIwAuQpgBpCgjA+x+z/zH7B8Dsr7/++usHwN0/zP3D3AfAzs/Y/IzNB8C/X+X7Vb4HwK/v8foerwfAoH/++eefB8CRDwv5sJAHwIKfF/h5gQfAcy8k90JyB8BjvzD2C2MHwFRPPfXUUwfARd9J9J1EB8A2b1bzZjUHwCf/YvIvJgfAF49v8fgWB8AIH3zwwQcHwPmuiO+K+AbA6j6V7lPpBsDbzqHtHNoGwMteruzlygbAvO666667BsCtfsfqd6wGwJ4O1OlAnQbAj57g6AmOBsB/Lu3n0n4GwHC++eabbwbAYE4G5mRgBsBR3hLlLVEGwEJuH+T2QQbAMv4r478yBsAjjjjiiCMGwBQeReFRFAbABa5R4BoFBsD2PV7f4/UFwObNat6s5gXA11133XXXBcDI7YPcPsgFwLl9kNsHuQXAqg2d2tCpBcCananZmZoFwIsttthiiwXAfL3C1yt8BcBtTc/W9GwFwF7d29W9XQXAT23o1IZOBcA//fTTTz8FwDCNAdMYMAXAIR0O0uEgBcASrRrRqhEFwAM9J9BzAgXA88wzzzzzBMDkXEDOBeQEwNXsTM3O1ATAxnxZzJfFBMC3DGbLYLYEwKeccsoppwTAmCx/yfKXBMCJvIvIu4gEwHlMmMeEeQTAatykxk1qBMBabLHFFlsEwEv8vcTfSwTAPIzKw6g8BMAtHNfCcS0EwB6s48E6HgTADjzwwAMPBMD/y/y/zP8DwPBbCb+V8APA4esVvl7hA8DSeyK9J9IDwMILL7zwwgPAs5s7u7mzA8CkK0i6gqQDwJW7VLlLlQPAhkthuBSGA8B222233XYDwGdreramZwPAWPuGtW9YA8BJi5O0OEkDwDoboLMBOgPAKqusssoqA8AbO7mxkxsDwAzLxbBcDAPA/VrSryX9AsDu6t6u7u0CwN5666233gLAzwr4rIDPAsDAmgSsScACwLEqEasSsQLAorodqtuhAsCTSiqppJICwIPaNqhtgwLAdGpDpzZ0AsBl+k+m/2QCwFaKXKXIVQLARxpppJFGAsA3qnWjWjcCwCg6gqIjKALAGcqOoewYAsAKWpugtQkCwPvpp59++gHA63m0nkfrAcDcCcGdENwBwM2ZzZzZzAHAvinam6K9AcCvueaaa64BwJ9J85k0nwHAkNn/mP2PAcCBaQyYxoABwHL5GJePcQHAY4klllhiAcBTGTKVIVMBwESpPpTqQwHANTlLk7M0AcAlyVeSfCUBwBZZZJFFFgHAB+lwkA4HAcD4eH2P1/cAwOkIio6g6ADA2ZiWjWnZAMDKKKOMMsoAwLu4r4v7ugDArEi8isSrAMCd2MiJjZwAwI1o1YhWjQDAfvjhhx9+AMBviO6G6G4AwGAY+4WxXwDAUagHhXpQAMBBOBSEQ0EAwDLIIIMMMgDAI1gtgtUiAMAU6DmBnhMAwAV4RoBnBADA6w+m/mDq/7/LL7/88sv/v61P2PqErf+/j2/x+BaP/79wjwr3qHD/v1KvI/U6Uv+/NM8888wz/78V71XxXhX/v/cOb+/w9v6/2C6I7YLY/r+6TqHrFLr+v5xuuummm/6/fY7T5zh9/r9fruzlyl7+v0DOBeRcQP6/Iu4e4u4h/r8EDjjggAP+v+UtUd4S5f2/x01q3KTG/b+obYPaNqj9v4qNnNjIif2/bK211lpr/b9Nzc7U7Ez9vy/t59J+Lv2/EQ0B0RAQ/b/yLBrPovH8v9NMM8000/y/tGxMy8a0/L+WjGXJWJb8v3isfsfqd/y/WcyXxXxZ/L877LDDDjv8vxwMysGgHPy//ivjvzL++7/gS/y9xN/7v8FrFbxWwfu/o4suuuii+7+Eq0e4eoT7v2bLYLYMZvu/SOt5tJ5H+78pC5OyMCn7vwsrrLDCCvu/7ErFrlTs+r/Oat6s5s36v7CK96p4r/q/kaoQqQqR+r9zyimnnHL6v1PqQqUuVPq/NQpco8A1+r8XKnWhUhf6v/hJjp/k+Pm/2mmnnXba+b+8icCbCLz5v52p2Zmanfm/f8nylyx/+b9g6QuWvmD5v0IJJZRQQvm/JCk+kuIj+b8FSVeQdAX5v+docI4G5/i/yIiJjJjI+L+qqKKKKqr4v4zIu4i8i/i/bejUhk5t+L9PCO6E4E74vzAoB4NyMPi/EkgggQQS+L/0Zzl/lvP3v9WHUn0o1fe/t6dre7q297+Zx4R5TJj3v3rnnXfeefe/XAe3dXBb9789J9BzAj33vx9H6XGUHve/AWcCcCYA97/ihhtuuOH2v8SmNGxKw/a/pcZNatyk9r+H5mZobob2v2kGgGYAaPa/SiaZZJJJ9r8sRrJiJCv2vw5my2C2DPa/74XkXkju9b/Rpf1c2s/1v7LFFltssfW/lOUvWf6S9b92BUlXkHT1v1clYlUiVvW/N0V7U7Q39b8YZZRRRhn1v/qErU/Y+vS/26TGTWrc9L+9xN9L/L30v5/k+EmOn/S/gAQSSCCB9L9iJCtGsmL0v0RERERERPS/JWRdQtYl9L8HhHZAaAf0v+ijjz766PO/ysOoPIzK87+s48E6Hqzzv40D2ziwjfO/byP0NkJv879QQw011FDzvzJjJjNmMvO/FIM/MfgT87/1olgvivXyv9fCcS0c1/K/ueKKK6648r+aAqQpQJryv3wivSfSe/K/XULWJWRd8r8/Yu8j9j7yvyGCCCKIIPK/AqIhIBoC8r/kwToerOPxv8XhUxw+xfG/pwFtGtCm8b+JIYYYYojxv2pBnxb0afG/TGG4FIZL8b8tgdESGC3xvw+h6hCqDvG/8cADDzzw8L/S4BwNztHwv7QANgtgs/C/liBPCfKU8L93QGgHhHbwv1lggQUWWPC/OoCaA6g58L8coLMBOhvwv/t/mf+X+e+/vr/L+7u877+C//3333/vv0U/MPQDQ++/CH9i8CcG77/LvpTsS8nuv4/+xuhvjO6/TT755JNP7r8RfivhtxLuv9S9Xd3b1e2/l/2P2f+Y7b9aPcLVI1ztvx599NFHH+2/4bwmzmvi7L+k/FjKj6Xsv2c8i8azaOy/Kny9wtcr7L/uu+++++7rv7H7Ibsfsuu/dDtUt0N16783e4azZzjrv/u6uK+L++q/vvrqq6++6r+BOh2o04Hqv0R6T6T3ROq/CLqBoBsI6r/L+bOcP8vpv4455phjjum/UXkYlYdR6b8UuUqRqxTpv9j4fI3P1+i/mzivifOa6L9eeOGFF17ovyG4E4I7Iei/5fdFfl/k57+oN3h6g6fnv2t3qnanaue/Lrfccsst57/x9g5v7/Dmv7U2QWsTtOa/eHZzZzd35r87tqVjWzrmv/71119//eW/wjUKXKPA5b+FdTxYx4Plv0i1blTrRuW/C/WgUA8K5b/ONNNMM83kv5J0BUlXkOS/VbQ3RXtT5L8Y9GlBnxbkv9sznD3D2eO/n3POOeec479iswA2C2DjvyXzMjIvI+O/6DJlLlPm4r+rcpcqd6niv2+yySabbOK/MvL7Ir8v4r/xMS4f4/Lhv7RxYBsHtuG/d7GSFyt54b878cQTTzzhv/4w9w9z/+C/wXApDJfC4L+EsFsIu4Xgv0fwjQTfSOC/CzDAAAMM4L+c3+T5TZ7fvyJfSfKVJN+/qd6t6t2q3r8vXhLjJTHev7bddtttt92/PF3b07U93b/C3D/M/cPcv0lcpMRFSty/z9sIvY3Q279WW2211Vbbv9za0a0d3dq/Y1o2pmVj2r/p2ZqerenZv3BZ/5b1b9m/9thjjz322L98WMiHhXzYvwPYLIDNAti/iVeReBWJ178Q1/VwXQ/Xv5ZWWmmllda/Hda+Ye0b1r+jVSNaNaLVvyrVh1J9KNW/sFTsSsWu1L831FBDDTXUv71TtTtVu9O/Q9MZNJ1B07/KUn4s5cfSv1DS4iQtTtK/11FHHXXU0b9d0asVvVrRv+RQEA4F4dC/atB0Bk1n0L/hn7L9KdvPv+6ee+65586/+51E30n0zb8InQ3Q2QDNvxWc1sBpDcy/IpufsfkZy78ummiiiSbKvzuZMZMZM8m/SJj6g6k/yL9El8N0OUzHv1GWjGXJWMa/XpVVVlllxb9rlB5H6XHEv3iT5zd5fsO/hJKwKAmLwr+RkXkZmZfBv56QQgoppMC/Vh8X9nFhv79wHanXkXq9v4obO7mxk7u/pBnNmtGsub++F1988cW3v9cV8V0R37W/8RODPzH4s78LEhUhURGyvyUQpwJxKrC/fRxyyCGHrL+xGJaLYbmov+QUuk6h66S/GBHeEeEdob+XGgSqQaCav/4STDDBBJO/yhYobYHShr9jHuDmAW5uv2Me4OYBbm4/yhYobYHShj/+EkwwwQSTP5caBKpBoJo/GBHeEeEdoT/kFLpOoeukP7EYlothuag/fRxyyCGHrD8lEKcCcSqwPwsSFSFREbI/8RODPzH4sz/XFfFdEd+1P74XX3zxxbc/pBnNmtGsuT+KGzu5sZO7P3AdqdeRer0/Vh8X9nFhvz+ekEIKKaTAP5GReRmZl8E/hJKwKAmLwj94k+c3eX7DP2uUHkfpccQ/XpVVVlllxT9RloxlyVjGP0SXw3Q5TMc/N5j6g6k/yD87mTGTGTPJPy6aaKKJJso/IpufsfkZyz8VnNbAaQ3MPwidDdDZAM0/+51E30n0zT/unnvuuefOP+Gfsv0p288/atB0Bk1n0D/kUBAOBeHQP13RqxW9WtE/11FHHXXU0T9Q0uIkLU7SP8pSfizlx9I/Q9MZNJ1B0z+9U7U7VbvTPzfUUEMNNdQ/sFTsSsWu1D8q1YdSfSjVP6NVI1o1otU/Hda+Ye0b1j+WVlpppZXWPxDX9XBdD9c/iVeReBWJ1z8D2CyAzQLYP3xYyIeFfNg/9thjjz322D9wWf+W9W/ZP+nZmp6t6dk/Y1o2pmVj2j/c2tGtHd3aP1ZbbbXVVts/z9sIvY3Q2z9JXKTERUrcP8LcP8z9w9w/PF3b07U93T+23XbbbbfdPy9eEuMlMd4/qd6t6t2q3j8iX0nylSTfP5zf5PlNnt8/DzDAAAMM4D9M8I0E30jgP4iwWwi7heA/xXApDJfC4D8CMfcPc//gPz/xxBNPPOE/fLGSFyt54T+4cWAbB7bhP/UxLh/j8uE/MvL7Ir8v4j9vsskmm2ziP6tylyp3qeI/6DJlLlPm4j8l8zIyLyPjP2KzADYLYOM/n3POOeec4z/bM5w9w9njPxj0aUGfFuQ/VbQ3RXtT5D+SdAVJV5DkP84000wzzeQ/C/WgUA8K5T9ItW5U60blP4V1PFjHg+U/wjUKXKPA5T/+9ddff/3lPzu2pWNbOuY/eHZzZzd35j+1NkFrE7TmP/H2Dm/v8OY/Lrfccsst5z9rd6p2p2rnP6g3eHqDp+c/5fdFfl/k5z8huBOCOyHoP1544YUXXug/mzivifOa6D/Y+HyNz9foPxS5SpGrFOk/UXkYlYdR6T+OOeaYY47pP8v5s5w/y+k/CLqBoBsI6j9Eek+k90TqP4E6HajTgeo/vvrqq6++6j/7urivi/vqPzd7hrNnOOs/dDtUt0N16z+x+yG7H7LrP+6777777us/Kny9wtcr7D9nPIvGs2jsP6T8WMqPpew/4bwmzmvi7D8effTRRx/tP1o9wtUjXO0/l/2P2f+Y7T/UvV3d29XtPxF+K+G3Eu4/TT755JNP7j+K/sbob4zuP8e+lOxLye4/BH9i8CcG7z9BPzD0A0PvP33//ffff+8/ur/L+7u87z/3f5n/l/nvPxqgswE6G/A/OICaA6g58D9XYIEFFljwP3VAaAeEdvA/kyBPCfKU8D+yADYLYLPwP9DgHA3O0fA/78ADDzzw8D8NoeoQqg7xPyuB0RIYLfE/SmG4FIZL8T9oQZ8W9GnxP4YhhhhiiPE/pQFtGtCm8T/D4VMcPsXxP+LBOh6s4/E/AKIhIBoC8j8egggiiCDyPz1i7yP2PvI/X0LWJWRd8j9+Ir0n0nvyP5wCpClAmvI/u+KKK6648j/ZwnEtHNfyP/eiWC+K9fI/FoM/MfgT8z80YyYzZjLzP1NDDTXUUPM/cSP0NkJv8z+PA9s4sI3zP67jwToerPM/zMOoPIzK8z/ro48++ujzPwmEdkBoB/Q/J2RdQtYl9D9GRERERET0P2QkK0ayYvQ/ggQSSCCB9D+h5PhJjp/0P7/E30v8vfQ/3qTGTWrc9D/8hK1P2Pr0PxpllFFGGfU/OUV7U7Q39T9XJWJVIlb1P3YFSVeQdPU/lOUvWf6S9T+yxRZbbLH1P9Gl/Vzaz/U/74XkXkju9T8OZstgtgz2PyxGsmIkK/Y/SiaZZJJJ9j9pBoBmAGj2P4fmZmhuhvY/pcZNatyk9j/EpjRsSsP2P+KGG2644fY/AWcCcCYA9z8fR+lxlB73Pz0n0HMCPfc/XAe3dXBb9z9655133nn3P5nHhHlMmPc/t6dre7q29z/Vh1J9KNX3P/RnOX+W8/c/EkgggQQS+D8wKAeDcjD4P08I7oTgTvg/bejUhk5t+D+MyLuIvIv4P6qooooqqvg/yIiJjJjI+D/naHCOBuf4PwVJV5B0Bfk/JCk+kuIj+T9CCSWUUEL5P2DpC5a+YPk/f8nylyx/+T+dqdmZmp35P7yJwJsIvPk/2mmnnXba+T/4SY6f5Pj5PxcqdaFSF/o/NQpco8A1+j9T6kKlLlT6P3LKKaeccvo/kKoQqQqR+j+viveqeK/6P81q3qzmzfo/60rFrlTs+j8KK6ywwgr7PygLk7IwKfs/R+t5tJ5H+z9ly2C2DGb7P4OrR7h6hPs/oosuuuii+z/AaxW8VsH7P99L/L3E3/s//SvjvzL++z8bDMrBoBz8PzrssMMOO/w/WMyXxXxZ/D92rH7H6nf8P5WMZclYlvw/s2xMy8a0/D/STDPNNNP8P/AsGs+i8fw/Dg0B0RAQ/T8t7efSfi79P0vNztTsTP0/aq211lpr/T+IjZzYyIn9P6Ztg9o2qP0/xU1q3KTG/T/jLVHeEuX9PwEOOOCAA/4/IO4e4u4h/j8+zgXkXED+P12u7OXKXv4/f47T5zh9/j+ebrrpppv+P7xOoesUuv4/2y6I7YLY/j/5Dm/v8Pb+PxfvVfFeFf8/Ns8888wz/z9UryP1OlL/P3KPCveocP8/kW/x+BaP/z+vT9j6hK3/P84vv/zyy/8/7A+m/mDq/z8FeEaAZwQAQBToOYGeEwBAJFgtgtUiAEAzyCCDDDIAQEI4FIRDQQBAUagHhXpQAEBgGPuFsV8AQHCI7obobgBAf/jhhx9+AECOaNWIVo0AQJ3YyImNnABArEi8isSrAEC8uK+L+7oAQMsoo4wyygBA2piWjWnZAEDpCIqOoOgAQPh4fY/X9wBAB+lwkA4HAUAXWWSRRRYBQCbJV5J8JQFANTlLk7M0AUBEqT6U6kMBQFMZMpUhUwFAY4klllhiAUBy+RiXj3EBQIFpDJjGgAFAkNn/mP2PAUCfSfOZNJ8BQK+55pprrgFAvinam6K9AUDNmc2c2cwBQNwJwZ0Q3AFA63m0nkfrAUD76aeffvoBQApam6C1CQJAGcqOoewYAkAoOoKiIygCQDeqdaNaNwJARxpppJFGAkBWilylyFUCQGX6T6b/ZAJAdGpDpzZ0AkCD2jaobYMCQJNKKqmkkgJAorodqtuhAkCxKhGrErECQMCaBKxJwAJAzwr4rIDPAkDeeuutt94CQO7q3q7u7QJA/VrSryX9AkAMy8WwXAwDQBs7ubGTGwNAKqusssoqA0A6G6CzAToDQEmLk7Q4SQNAWPuGtW9YA0Bna3q2pmcDQHbbbbfddgNAhkthuBSGA0CVu1S5S5UDQKQrSLqCpANAs5s7u7mzA0DCCy+88MIDQNJ7Ir0n0gNA4esVvl7hA0DwWwm/lfADQP/L/L/M/wNADjzwwAMPBEAerOPBOh4EQC0c18JxLQRAPIzKw6g8BEBL/L3E30sEQFpsscUWWwRAatykxk1qBEB5TJjHhHkEQIi8i8i7iARAlyx/yfKXBECmnHLKKacEQLYMZstgtgRAxXxZzJfFBEDU7EzNztQEQONcQM4F5ARA8swzzzzzBEABPSfQcwIFQBGtGtGqEQVAIB0O0uEgBUAvjQHTGDAFQD799NNPPwVATW3o1IZOBUBf3dvVvV0FQG5Nz9b0bAVAfb3C1yt8BUCMLbbYYosFQJydqdmZmgVAqw2d2tCpBUC6fZDbB7kFQMntg9w+yAVA2F133XXXBUDozWrerOYFQPc9Xt/j9QVABq5R4BoFBkAVHkXhURQGQCSOOOKIIwZAM/4r478yBkBDbh/k9kEGQFLeEuUtUQZAYU4G5mRgBkBwvvnmm28GQH8u7efSfgZAj57g6AmOBkCeDtTpQJ0GQK1+x+p3rAZAvO666667BkDLXq7s5coGQNvOoe0c2gZA6j6V7lPpBkD5rojvivgGQAgffPDBBwdAF49v8fgWB0An/2LyLyYHQDZvVvNmNQdARd9J9J1EB0BUTz311FMHQGO/MPYLYwdAcy8k90JyB0CCnxf4eYEHQJEPC/mwkAdAoH/++eefB0Cv7/H6Hq8HQL9f5ftVvgdAzs/Y/IzNB0DdP8z9w9wHQOyvv/766wdA+x+z/zH7B0ALkKYAaQoIQBoAmgGgGQhAKXCNAtcoCEA44IADDjgIQEdQdARFRwhAVsBnBXxWCEBmMFsGs2UIQHWgTgfqdAhAhBBCCCGECECTgDUJWJMIQKLwKAqPoghAsmAcC8axCEDB0A8M/cAIQNBAAw000AhA37D2DWvfCEDuIOoOou4IQP6Q3Q/Z/QhADQHREBANCUAcccQRRxwJQCvhtxJ+KwlAOlGrE7U6CUBKwZ4U7EkJQFkxkhUjWQlAaKGFFlpoCUB3EXkXkXcJQIaBbBjIhglAlvFfGf+VCUClYVMaNqUJQLTRRhtttAlAw0E6HKTDCUDSsS0d29IJQOIhIR4S4glA8ZEUH0nxCUAAAggggAAKQA9y+yC3DwpAHuLuIe4eCkAtUuIiJS4KQD3C1SNcPQpATDLJJJNMCkBborwlylsKQGoSsCYBawpAeYKjJzh6CkCJ8pYob4kKQJhiiimmmApAp9J9Kt2nCkC2QnErFLcKQMWyZCxLxgpA1SJYLYLVCkDkkksuueQKQPMCPy/w8wpAAnMyMCcDC0AR4yUxXhILQCFTGTKVIQtAMMMMM8wwC0A/MwA0A0ALQE6j8zQ6TwtAXRPnNXFeC0Bvg9o2qG0LQH7zzTfffAtAjWPBOBaMC0Cc07Q5TZsLQKtDqDqEqgtAu7ObO7u5C0DKI4888sgLQNmTgj0p2AtA6AN2PmDnC0D3c2k/l/YLQAfkXEDOBQxAFlRQQQUVDEAlxENCPCQMQDQ0N0NzMwxAQ6QqRKpCDEBTFB5F4VEMQGKEEUYYYQxAcfQER09wDECAZPhHhn8MQI/U60i9jgxAn0TfSfSdDECutNJKK60MQL0kxktivAxAzJS5TJnLDEDbBK1N0NoMQOt0oE4H6gxA+uSTTz75DEAJVYdQdQgNQBjFelGsFw1AJzVuUuMmDUA3pWFTGjYNQEYVVVRRRQ1AVYVIVYhUDUBk9TtWv2MNQHNlL1f2cg1AgtUiWC2CDUCSRRZZZJENQKG1CVqboA1AsCX9WtKvDUC/lfBbCb8NQM4F5FxAzg1A3nXXXXfdDUDt5cperuwNQPxVvl/l+w1AC8axYBwLDkAaNqVhUxoOQCqmmGKKKQ5AORaMY8E4DkBIhn9k+EcOQFf2cmUvVw5AZmZmZmZmDkA=",
          "dtype": "f8"
         },
         "y": {
          "bdata": "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",
          "dtype": "f8"
         }
        }
       ],
       "layout": {
        "template": {
         "data": {
          "bar": [
           {
            "error_x": {
             "color": "#2a3f5f"
            },
            "error_y": {
             "color": "#2a3f5f"
            },
            "marker": {
             "line": {
              "color": "white",
              "width": 0.5
             },
             "pattern": {
              "fillmode": "overlay",
              "size": 10,
              "solidity": 0.2
             }
            },
            "type": "bar"
           }
          ],
          "barpolar": [
           {
            "marker": {
             "line": {
              "color": "white",
              "width": 0.5
             },
             "pattern": {
              "fillmode": "overlay",
              "size": 10,
              "solidity": 0.2
             }
            },
            "type": "barpolar"
           }
          ],
          "carpet": [
           {
            "aaxis": {
             "endlinecolor": "#2a3f5f",
             "gridcolor": "#C8D4E3",
             "linecolor": "#C8D4E3",
             "minorgridcolor": "#C8D4E3",
             "startlinecolor": "#2a3f5f"
            },
            "baxis": {
             "endlinecolor": "#2a3f5f",
             "gridcolor": "#C8D4E3",
             "linecolor": "#C8D4E3",
             "minorgridcolor": "#C8D4E3",
             "startlinecolor": "#2a3f5f"
            },
            "type": "carpet"
           }
          ],
          "choropleth": [
           {
            "colorbar": {
             "outlinewidth": 0,
             "ticks": ""
            },
            "type": "choropleth"
           }
          ],
          "contour": [
           {
            "colorbar": {
             "outlinewidth": 0,
             "ticks": ""
            },
            "colorscale": [
             [
              0,
              "#0d0887"
             ],
             [
              0.1111111111111111,
              "#46039f"
             ],
             [
              0.2222222222222222,
              "#7201a8"
             ],
             [
              0.3333333333333333,
              "#9c179e"
             ],
             [
              0.4444444444444444,
              "#bd3786"
             ],
             [
              0.5555555555555556,
              "#d8576b"
             ],
             [
              0.6666666666666666,
              "#ed7953"
             ],
             [
              0.7777777777777778,
              "#fb9f3a"
             ],
             [
              0.8888888888888888,
              "#fdca26"
             ],
             [
              1,
              "#f0f921"
             ]
            ],
            "type": "contour"
           }
          ],
          "contourcarpet": [
           {
            "colorbar": {
             "outlinewidth": 0,
             "ticks": ""
            },
            "type": "contourcarpet"
           }
          ],
          "heatmap": [
           {
            "colorbar": {
             "outlinewidth": 0,
             "ticks": ""
            },
            "colorscale": [
             [
              0,
              "#0d0887"
             ],
             [
              0.1111111111111111,
              "#46039f"
             ],
             [
              0.2222222222222222,
              "#7201a8"
             ],
             [
              0.3333333333333333,
              "#9c179e"
             ],
             [
              0.4444444444444444,
              "#bd3786"
             ],
             [
              0.5555555555555556,
              "#d8576b"
             ],
             [
              0.6666666666666666,
              "#ed7953"
             ],
             [
              0.7777777777777778,
              "#fb9f3a"
             ],
             [
              0.8888888888888888,
              "#fdca26"
             ],
             [
              1,
              "#f0f921"
             ]
            ],
            "type": "heatmap"
           }
          ],
          "histogram": [
           {
            "marker": {
             "pattern": {
              "fillmode": "overlay",
              "size": 10,
              "solidity": 0.2
             }
            },
            "type": "histogram"
           }
          ],
          "histogram2d": [
           {
            "colorbar": {
             "outlinewidth": 0,
             "ticks": ""
            },
            "colorscale": [
             [
              0,
              "#0d0887"
             ],
             [
              0.1111111111111111,
              "#46039f"
             ],
             [
              0.2222222222222222,
              "#7201a8"
             ],
             [
              0.3333333333333333,
              "#9c179e"
             ],
             [
              0.4444444444444444,
              "#bd3786"
             ],
             [
              0.5555555555555556,
              "#d8576b"
             ],
             [
              0.6666666666666666,
              "#ed7953"
             ],
             [
              0.7777777777777778,
              "#fb9f3a"
             ],
             [
              0.8888888888888888,
              "#fdca26"
             ],
             [
              1,
              "#f0f921"
             ]
            ],
            "type": "histogram2d"
           }
          ],
          "histogram2dcontour": [
           {
            "colorbar": {
             "outlinewidth": 0,
             "ticks": ""
            },
            "colorscale": [
             [
              0,
              "#0d0887"
             ],
             [
              0.1111111111111111,
              "#46039f"
             ],
             [
              0.2222222222222222,
              "#7201a8"
             ],
             [
              0.3333333333333333,
              "#9c179e"
             ],
             [
              0.4444444444444444,
              "#bd3786"
             ],
             [
              0.5555555555555556,
              "#d8576b"
             ],
             [
              0.6666666666666666,
              "#ed7953"
             ],
             [
              0.7777777777777778,
              "#fb9f3a"
             ],
             [
              0.8888888888888888,
              "#fdca26"
             ],
             [
              1,
              "#f0f921"
             ]
            ],
            "type": "histogram2dcontour"
           }
          ],
          "mesh3d": [
           {
            "colorbar": {
             "outlinewidth": 0,
             "ticks": ""
            },
            "type": "mesh3d"
           }
          ],
          "parcoords": [
           {
            "line": {
             "colorbar": {
              "outlinewidth": 0,
              "ticks": ""
             }
            },
            "type": "parcoords"
           }
          ],
          "pie": [
           {
            "automargin": true,
            "type": "pie"
           }
          ],
          "scatter": [
           {
            "fillpattern": {
             "fillmode": "overlay",
             "size": 10,
             "solidity": 0.2
            },
            "type": "scatter"
           }
          ],
          "scatter3d": [
           {
            "line": {
             "colorbar": {
              "outlinewidth": 0,
              "ticks": ""
             }
            },
            "marker": {
             "colorbar": {
              "outlinewidth": 0,
              "ticks": ""
             }
            },
            "type": "scatter3d"
           }
          ],
          "scattercarpet": [
           {
            "marker": {
             "colorbar": {
              "outlinewidth": 0,
              "ticks": ""
             }
            },
            "type": "scattercarpet"
           }
          ],
          "scattergeo": [
           {
            "marker": {
             "colorbar": {
              "outlinewidth": 0,
              "ticks": ""
             }
            },
            "type": "scattergeo"
           }
          ],
          "scattergl": [
           {
            "marker": {
             "colorbar": {
              "outlinewidth": 0,
              "ticks": ""
             }
            },
            "type": "scattergl"
           }
          ],
          "scattermap": [
           {
            "marker": {
             "colorbar": {
              "outlinewidth": 0,
              "ticks": ""
             }
            },
            "type": "scattermap"
           }
          ],
          "scattermapbox": [
           {
            "marker": {
             "colorbar": {
              "outlinewidth": 0,
              "ticks": ""
             }
            },
            "type": "scattermapbox"
           }
          ],
          "scatterpolar": [
           {
            "marker": {
             "colorbar": {
              "outlinewidth": 0,
              "ticks": ""
             }
            },
            "type": "scatterpolar"
           }
          ],
          "scatterpolargl": [
           {
            "marker": {
             "colorbar": {
              "outlinewidth": 0,
              "ticks": ""
             }
            },
            "type": "scatterpolargl"
           }
          ],
          "scatterternary": [
           {
            "marker": {
             "colorbar": {
              "outlinewidth": 0,
              "ticks": ""
             }
            },
            "type": "scatterternary"
           }
          ],
          "surface": [
           {
            "colorbar": {
             "outlinewidth": 0,
             "ticks": ""
            },
            "colorscale": [
             [
              0,
              "#0d0887"
             ],
             [
              0.1111111111111111,
              "#46039f"
             ],
             [
              0.2222222222222222,
              "#7201a8"
             ],
             [
              0.3333333333333333,
              "#9c179e"
             ],
             [
              0.4444444444444444,
              "#bd3786"
             ],
             [
              0.5555555555555556,
              "#d8576b"
             ],
             [
              0.6666666666666666,
              "#ed7953"
             ],
             [
              0.7777777777777778,
              "#fb9f3a"
             ],
             [
              0.8888888888888888,
              "#fdca26"
             ],
             [
              1,
              "#f0f921"
             ]
            ],
            "type": "surface"
           }
          ],
          "table": [
           {
            "cells": {
             "fill": {
              "color": "#EBF0F8"
             },
             "line": {
              "color": "white"
             }
            },
            "header": {
             "fill": {
              "color": "#C8D4E3"
             },
             "line": {
              "color": "white"
             }
            },
            "type": "table"
           }
          ]
         },
         "layout": {
          "annotationdefaults": {
           "arrowcolor": "#2a3f5f",
           "arrowhead": 0,
           "arrowwidth": 1
          },
          "autotypenumbers": "strict",
          "coloraxis": {
           "colorbar": {
            "outlinewidth": 0,
            "ticks": ""
           }
          },
          "colorscale": {
           "diverging": [
            [
             0,
             "#8e0152"
            ],
            [
             0.1,
             "#c51b7d"
            ],
            [
             0.2,
             "#de77ae"
            ],
            [
             0.3,
             "#f1b6da"
            ],
            [
             0.4,
             "#fde0ef"
            ],
            [
             0.5,
             "#f7f7f7"
            ],
            [
             0.6,
             "#e6f5d0"
            ],
            [
             0.7,
             "#b8e186"
            ],
            [
             0.8,
             "#7fbc41"
            ],
            [
             0.9,
             "#4d9221"
            ],
            [
             1,
             "#276419"
            ]
           ],
           "sequential": [
            [
             0,
             "#0d0887"
            ],
            [
             0.1111111111111111,
             "#46039f"
            ],
            [
             0.2222222222222222,
             "#7201a8"
            ],
            [
             0.3333333333333333,
             "#9c179e"
            ],
            [
             0.4444444444444444,
             "#bd3786"
            ],
            [
             0.5555555555555556,
             "#d8576b"
            ],
            [
             0.6666666666666666,
             "#ed7953"
            ],
            [
             0.7777777777777778,
             "#fb9f3a"
            ],
            [
             0.8888888888888888,
             "#fdca26"
            ],
            [
             1,
             "#f0f921"
            ]
           ],
           "sequentialminus": [
            [
             0,
             "#0d0887"
            ],
            [
             0.1111111111111111,
             "#46039f"
            ],
            [
             0.2222222222222222,
             "#7201a8"
            ],
            [
             0.3333333333333333,
             "#9c179e"
            ],
            [
             0.4444444444444444,
             "#bd3786"
            ],
            [
             0.5555555555555556,
             "#d8576b"
            ],
            [
             0.6666666666666666,
             "#ed7953"
            ],
            [
             0.7777777777777778,
             "#fb9f3a"
            ],
            [
             0.8888888888888888,
             "#fdca26"
            ],
            [
             1,
             "#f0f921"
            ]
           ]
          },
          "colorway": [
           "#636efa",
           "#EF553B",
           "#00cc96",
           "#ab63fa",
           "#FFA15A",
           "#19d3f3",
           "#FF6692",
           "#B6E880",
           "#FF97FF",
           "#FECB52"
          ],
          "font": {
           "color": "#2a3f5f"
          },
          "geo": {
           "bgcolor": "white",
           "lakecolor": "white",
           "landcolor": "white",
           "showlakes": true,
           "showland": true,
           "subunitcolor": "#C8D4E3"
          },
          "hoverlabel": {
           "align": "left"
          },
          "hovermode": "closest",
          "mapbox": {
           "style": "light"
          },
          "paper_bgcolor": "white",
          "plot_bgcolor": "white",
          "polar": {
           "angularaxis": {
            "gridcolor": "#EBF0F8",
            "linecolor": "#EBF0F8",
            "ticks": ""
           },
           "bgcolor": "white",
           "radialaxis": {
            "gridcolor": "#EBF0F8",
            "linecolor": "#EBF0F8",
            "ticks": ""
           }
          },
          "scene": {
           "xaxis": {
            "backgroundcolor": "white",
            "gridcolor": "#DFE8F3",
            "gridwidth": 2,
            "linecolor": "#EBF0F8",
            "showbackground": true,
            "ticks": "",
            "zerolinecolor": "#EBF0F8"
           },
           "yaxis": {
            "backgroundcolor": "white",
            "gridcolor": "#DFE8F3",
            "gridwidth": 2,
            "linecolor": "#EBF0F8",
            "showbackground": true,
            "ticks": "",
            "zerolinecolor": "#EBF0F8"
           },
           "zaxis": {
            "backgroundcolor": "white",
            "gridcolor": "#DFE8F3",
            "gridwidth": 2,
            "linecolor": "#EBF0F8",
            "showbackground": true,
            "ticks": "",
            "zerolinecolor": "#EBF0F8"
           }
          },
          "shapedefaults": {
           "line": {
            "color": "#2a3f5f"
           }
          },
          "ternary": {
           "aaxis": {
            "gridcolor": "#DFE8F3",
            "linecolor": "#A2B1C6",
            "ticks": ""
           },
           "baxis": {
            "gridcolor": "#DFE8F3",
            "linecolor": "#A2B1C6",
            "ticks": ""
           },
           "bgcolor": "white",
           "caxis": {
            "gridcolor": "#DFE8F3",
            "linecolor": "#A2B1C6",
            "ticks": ""
           }
          },
          "title": {
           "x": 0.05
          },
          "xaxis": {
           "automargin": true,
           "gridcolor": "#EBF0F8",
           "linecolor": "#EBF0F8",
           "ticks": "",
           "title": {
            "standoff": 15
           },
           "zerolinecolor": "#EBF0F8",
           "zerolinewidth": 2
          },
          "yaxis": {
           "automargin": true,
           "gridcolor": "#EBF0F8",
           "linecolor": "#EBF0F8",
           "ticks": "",
           "title": {
            "standoff": 15
           },
           "zerolinecolor": "#EBF0F8",
           "zerolinewidth": 2
          }
         }
        },
        "title": {
         "text": "FFT Spectrum"
        },
        "xaxis": {
         "title": {
          "text": "Frequency (GHz)"
         }
        },
        "yaxis": {
         "title": {
          "text": "Power (dB)"
         }
        }
       }
      }
     },
     "metadata": {},
     "output_type": "display_data"
    },
    {
     "name": "stdout",
     "output_type": "stream",
     "text": [
      "Saved to combined_waveform.csv\n"
     ]
    }
   ],
   "source": [
    "import numpy as np\n",
    "import csv\n",
    "import plotly.graph_objects as go\n",
    "from numpy.fft import fft, fftshift\n",
    "\n",
    "# -------- Waveform Generators --------\n",
    "def generate_sine(amplitude, frequency, num_samples, fs):\n",
    "    t = np.arange(num_samples) / fs\n",
    "    wave = amplitude * np.sin(2 * np.pi * frequency * t)\n",
    "    return t, wave\n",
    "\n",
    "def generate_prbs(amplitude, num_samples, fs):\n",
    "    t = np.arange(num_samples) / fs\n",
    "    bits = np.random.choice([-1, 1], size=num_samples)\n",
    "    return t,  bits\n",
    "\n",
    "def generate_lfm(center_freq, bandwidth, pulse_width, num_samples, fs):\n",
    "    t = np.arange(num_samples) / fs\n",
    "    k = bandwidth / pulse_width\n",
    "    wave = np.sin(2 * np.pi * (center_freq * t + 0.5 * k * t**2))\n",
    "    return t, wave\n",
    "\n",
    "def generate_step_lfm(start_freq, stop_freq, step_freq, dwell_time, num_samples, fs):\n",
    "    fs = fs * 1e9  # GHz → Hz\n",
    "    start_freq_hz = start_freq * 1e9\n",
    "    stop_freq_hz  = stop_freq * 1e9\n",
    "    step_freq_hz  = step_freq * 1e9\n",
    "    dwell_time_s  = dwell_time * 1e-9  # ns → s\n",
    "    \n",
    "    samples_per_step = int(dwell_time_s * fs)\n",
    "    \n",
    "    freqs = np.arange(start_freq_hz, stop_freq_hz + step_freq_hz/2, step_freq_hz)\n",
    "    t_total = []\n",
    "    waveform = []\n",
    "    \n",
    "    time_offset = 0\n",
    "    for f in freqs:\n",
    "        t_step = np.arange(samples_per_step) / fs + time_offset\n",
    "        wave_step = np.full(samples_per_step, f)  # store frequency value directly\n",
    "        t_total.append(t_step)\n",
    "        waveform.append(wave_step)\n",
    "        time_offset += dwell_time_s\n",
    "\n",
    "    # Flatten\n",
    "    t_total = np.concatenate(t_total)\n",
    "    waveform = np.concatenate(waveform)\n",
    "\n",
    "    # Trim if needed\n",
    "    if len(waveform) > num_samples:\n",
    "        t_total = t_total[:num_samples]\n",
    "        waveform = waveform[:num_samples]\n",
    "\n",
    "\n",
    "    return t_total, waveform\n",
    "\n",
    "\n",
    "# -------- Parameters --------\n",
    "num_samples = 1024\n",
    "fs = 7.6e9  # 1 GHz sample rate\n",
    "pulse_width = 1000 * 1e-9  # for LFM and step LFM\n",
    "selected = [\"sine\", \"step_lfm\"]  # choose any combination\n",
    "\n",
    "# -------- Generate & Combine --------\n",
    "combined_wave = np.zeros(num_samples)\n",
    "t = np.arange(num_samples) / fs\n",
    "\n",
    "for wf in selected:\n",
    "    if wf == \"sine\":\n",
    "        _, wave = generate_sine(1, 10e6, num_samples, fs)\n",
    "    elif wf == \"prbs\":\n",
    "        _, wave = generate_prbs(1, num_samples, fs)\n",
    "    elif wf == \"lfm\":\n",
    "        _, wave = generate_lfm(1e9, 0.5e9, pulse_width, num_samples, fs)\n",
    "    elif wf == \"step_lfm\":\n",
    "        _, wave = generate_step_lfm(start_freq= .1, step_freq=.02, stop_freq=.5, dwell_time=100, num_samples=num_samples, fs=fs/1e9)\n",
    "    combined_wave += wave\n",
    "\n",
    "# -------- FFT using NumPy --------\n",
    "wave_fft = fftshift(fft(combined_wave, n=300))\n",
    "psd = np.abs(wave_fft) ** 2\n",
    "freq_axis = np.linspace(-fs/2, fs/2, num_samples) / 1e9  # MHz\n",
    "\n",
    "# -------- Plot: Time Domain --------\n",
    "fig_time = go.Figure()\n",
    "fig_time.add_trace(go.Scatter(\n",
    "    x=t * 1e9,  # time in µs\n",
    "    y=combined_wave/1e9,\n",
    "    mode='lines',\n",
    "    name=\"Combined Waveform\"\n",
    "))\n",
    "fig_time.update_layout(\n",
    "    title=f\"Time Domain: {', '.join(selected)}\",\n",
    "    xaxis_title=\"Time (µs)\",\n",
    "    yaxis_title=\"Amplitude\",\n",
    "    template=\"plotly_white\"\n",
    ")\n",
    "\n",
    "# -------- Plot: Frequency Domain --------\n",
    "fig_freq = go.Figure()\n",
    "fig_freq.add_trace(go.Scatter(\n",
    "    x=freq_axis,\n",
    "    y=10 * np.log10(psd + 1e-12),  # dB scale\n",
    "    mode='lines',\n",
    "    name=\"FFT Magnitude\"\n",
    "))\n",
    "fig_freq.update_layout(\n",
    "    title=\"FFT Spectrum\",\n",
    "      \n",
    "    xaxis_title=\"Frequency (GHz)\",\n",
    "    yaxis_title=\"Power (dB)\",\n",
    "    template=\"plotly_white\"\n",
    ")\n",
    "\n",
    "# -------- Show Plots --------\n",
    "fig_time.show()\n",
    "fig_freq.show()\n",
    "\n",
    "# -------- Save CSV --------\n",
    "with open(\"combined_waveform.csv\", \"w\", newline=\"\") as f:\n",
    "    writer = csv.writer(f)\n",
    "    writer.writerow([\"Time (s)\", \"Amplitude\"])\n",
    "    for ti, amp in zip(t, combined_wave):\n",
    "        writer.writerow([ti, amp])\n",
    "\n",
    "print(\"Saved to combined_waveform.csv\")\n"
   ]
  }
 ],
 "metadata": {
  "kernelspec": {
   "display_name": "Python 3",
   "language": "python",
   "name": "python3"
  },
  "language_info": {
   "codemirror_mode": {
    "name": "ipython",
    "version": 3
   },
   "file_extension": ".py",
   "mimetype": "text/x-python",
   "name": "python",
   "nbconvert_exporter": "python",
   "pygments_lexer": "ipython3",
   "version": "3.13.5"
  }
 },
 "nbformat": 4,
 "nbformat_minor": 5
}
